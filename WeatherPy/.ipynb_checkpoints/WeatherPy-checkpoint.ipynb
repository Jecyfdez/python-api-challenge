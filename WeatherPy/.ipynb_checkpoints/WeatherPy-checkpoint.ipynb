{
 "cells": [
  {
   "cell_type": "markdown",
   "metadata": {},
   "source": [
    "# WeatherPy\n",
    "----\n",
    "\n",
    "#### Note\n",
    "* Instructions have been included for each segment. You do not have to follow them exactly, but they are included to help you think through the steps."
   ]
  },
  {
   "cell_type": "code",
   "execution_count": 46,
   "metadata": {},
   "outputs": [],
   "source": [
    "# Dependencies and Setup\n",
    "import matplotlib.pyplot as plt\n",
    "import pandas as pd\n",
    "import numpy as np\n",
    "\n",
    "import requests\n",
    "from api_keys import weather_api_key\n",
    "import json\n",
    "\n",
    "# import os\n",
    "# import csv\n",
    "\n",
    "from citipy import citipy\n",
    "\n",
    "# Range of latitudes and longitudes\n",
    "latitude_range = (-90, 90)\n",
    "longitude_range = (-180, 180)"
   ]
  },
  {
   "cell_type": "code",
   "execution_count": 47,
   "metadata": {},
   "outputs": [],
   "source": [
    "#create a list for latitude and longitude\n",
    "lat_points =[]\n",
    "long_points =[]\n",
    "\n",
    "#find array of latitude coordinates\n",
    "random_lat = np.random.uniform(low=-90.00, high=90.00, size=100)\n",
    "#find array of longitude coordinates\n",
    "random_long = np.random.uniform(low=-180.00, high=180.00, size=100)\n",
    "#create coordinate combinations\n",
    "coordinates = zip(random_lat,random_long)"
   ]
  },
  {
   "cell_type": "code",
   "execution_count": 48,
   "metadata": {},
   "outputs": [
    {
     "name": "stdout",
     "output_type": "stream",
     "text": [
      "['hithadhoo', 'jefferson city', 'port alfred', 'busselton', 'pozo colorado', 'rikitea', 'ushuaia', 'hilo', 'lulea', 'gat', 'ilulissat', 'palabuhanratu', 'san policarpo', 'touros', 'alta floresta', 'taolanaro', 'illoqqortoormiut', 'lagoa', 'kundiawa', 'lebyazhye', 'aflu', 'seredka', 'ola', 'butaritari', 'nizhneyansk', 'albany', 'mabay', 'harstad', 'sao carlos', 'shunyi', 'grand gaube', 'tazovskiy', 'saint-francois', 'norman wells', 'vao', 'russell', 'mehamn', 'longyearbyen', 'svetlyy', 'asau', 'cidreira', 'avera', 'kavieng', 'sorland', 'camacha', 'hofn', 'arraial do cabo', 'zaranj', 'jatiroto', 'bredasdorp', 'port-gentil', 'faanui', 'ancud', 'georgetown', 'kapuskasing', 'hobart', 'klaksvik', 'avarua', 'shache', 'chuy', 'bur gabo', 'cherskiy', 'cape town', 'tuktoyaktuk', 'soria', 'tessalit', 'port macquarie', 'east london', 'chokurdakh', 'jamestown', 'sola', 'kapaa', 'tambacounda', 'tual', 'manicore', 'ambilobe', 'qaanaaq', 'iqaluit', 'bowen', 'vilhena', 'lamu', 'inuvik', 'lucapa', 'innisfail', 'gabu', 'road town', 'westport']\n"
     ]
    }
   ],
   "source": [
    "#create a list for cities to live\n",
    "unique_cities = []\n",
    "random_cities = []\n",
    "#Loop through coordinates to create a list of nearest cities\n",
    "for coordinates in coordinates:\n",
    "    city = citipy.nearest_city(coordinates[0], coordinates[1]).city_name\n",
    "    \n",
    "    #remove the space in between cities with more than 2 names\n",
    "    #city = city.replace(\" \", \"20%\")\n",
    "    \n",
    "    #remove potential repeating cities\n",
    "    if city not in unique_cities:\n",
    "        unique_cities.append(city)\n",
    "    \n",
    "print(unique_cities)"
   ]
  },
  {
   "cell_type": "markdown",
   "metadata": {},
   "source": [
    "## Generate Cities List"
   ]
  },
  {
   "cell_type": "code",
   "execution_count": 49,
   "metadata": {},
   "outputs": [
    {
     "data": {
      "text/plain": [
       "87"
      ]
     },
     "execution_count": 49,
     "metadata": {},
     "output_type": "execute_result"
    }
   ],
   "source": [
    "len(unique_cities)"
   ]
  },
  {
   "cell_type": "markdown",
   "metadata": {},
   "source": [
    "### Perform API Calls\n",
    "* Perform a weather check on each city using a series of successive API calls.\n",
    "* Include a print log of each city as it'sbeing processed (with the city number and city name).\n"
   ]
  },
  {
   "cell_type": "code",
   "execution_count": 52,
   "metadata": {},
   "outputs": [
    {
     "name": "stdout",
     "output_type": "stream",
     "text": [
      "Begin Data Retrieval\n",
      "----------------------------------\n",
      "Processing Record 1 | hithadhoo\n",
      "Processing Record 2 | jefferson city\n",
      "Processing Record 3 | port alfred\n",
      "Processing Record 4 | busselton\n",
      "Processing Record 5 | pozo colorado\n",
      "Processing Record 6 | rikitea\n",
      "Processing Record 7 | ushuaia\n",
      "Processing Record 8 | hilo\n",
      "Processing Record 9 | lulea\n",
      "Processing Record 10 | gat\n",
      "Processing Record 11 | ilulissat\n",
      "Processing Record 12 | palabuhanratu\n",
      "Processing Record 13 | san policarpo\n",
      "Processing Record 14 | touros\n",
      "Processing Record 15 | alta floresta\n",
      "Processing Record 16 | taolanaro\n",
      "Processing Record 17 | illoqqortoormiut\n",
      "Processing Record 18 | lagoa\n",
      "Processing Record 19 | kundiawa\n",
      "Processing Record 20 | lebyazhye\n",
      "Processing Record 21 | aflu\n",
      "Processing Record 22 | seredka\n",
      "Processing Record 23 | ola\n",
      "Processing Record 24 | butaritari\n",
      "Processing Record 25 | nizhneyansk\n",
      "Processing Record 26 | albany\n",
      "Processing Record 27 | mabay\n",
      "Processing Record 28 | harstad\n",
      "Processing Record 29 | sao carlos\n",
      "Processing Record 30 | shunyi\n",
      "Processing Record 31 | grand gaube\n",
      "Processing Record 32 | tazovskiy\n",
      "Processing Record 33 | saint-francois\n",
      "Processing Record 34 | norman wells\n",
      "Processing Record 35 | vao\n",
      "Processing Record 36 | russell\n",
      "Processing Record 37 | mehamn\n",
      "Processing Record 38 | longyearbyen\n",
      "Processing Record 39 | svetlyy\n",
      "Processing Record 40 | asau\n",
      "Processing Record 41 | cidreira\n",
      "Processing Record 42 | avera\n",
      "Processing Record 43 | kavieng\n",
      "Processing Record 44 | sorland\n",
      "Processing Record 45 | camacha\n",
      "Processing Record 46 | hofn\n",
      "Processing Record 47 | arraial do cabo\n",
      "Processing Record 48 | zaranj\n",
      "Processing Record 49 | jatiroto\n",
      "Processing Record 50 | bredasdorp\n",
      "Processing Record 51 | port-gentil\n",
      "Processing Record 52 | faanui\n",
      "Processing Record 53 | ancud\n",
      "Processing Record 54 | georgetown\n",
      "Processing Record 55 | kapuskasing\n",
      "Processing Record 56 | hobart\n",
      "Processing Record 57 | klaksvik\n",
      "Processing Record 58 | avarua\n",
      "Processing Record 59 | shache\n",
      "Processing Record 60 | chuy\n",
      "Processing Record 61 | bur gabo\n",
      "Processing Record 62 | cherskiy\n",
      "Processing Record 63 | cape town\n",
      "Processing Record 64 | tuktoyaktuk\n",
      "Processing Record 65 | soria\n",
      "Processing Record 66 | tessalit\n",
      "Processing Record 67 | port macquarie\n",
      "Processing Record 68 | east london\n",
      "Processing Record 69 | chokurdakh\n",
      "Processing Record 70 | jamestown\n",
      "Processing Record 71 | sola\n",
      "Processing Record 72 | kapaa\n",
      "Processing Record 73 | tambacounda\n",
      "Processing Record 74 | tual\n",
      "Processing Record 75 | manicore\n",
      "Processing Record 76 | ambilobe\n",
      "Processing Record 77 | qaanaaq\n",
      "Processing Record 78 | iqaluit\n",
      "Processing Record 79 | bowen\n",
      "Processing Record 80 | vilhena\n",
      "Processing Record 81 | lamu\n",
      "Processing Record 82 | inuvik\n",
      "Processing Record 83 | lucapa\n",
      "Processing Record 84 | innisfail\n",
      "Processing Record 85 | gabu\n",
      "Processing Record 86 | road town\n",
      "Processing Record 87 | westport\n",
      "----------------------------------\n",
      "Data Retrieval Complete\n",
      "----------------------------------\n"
     ]
    },
    {
     "data": {
      "text/plain": [
       "{'coord': {'lon': -73.36, 'lat': 41.14},\n",
       " 'weather': [{'id': 801,\n",
       "   'main': 'Clouds',\n",
       "   'description': 'few clouds',\n",
       "   'icon': '02n'}],\n",
       " 'base': 'stations',\n",
       " 'main': {'temp': 70.23,\n",
       "  'feels_like': 73.81,\n",
       "  'temp_min': 70,\n",
       "  'temp_max': 71.6,\n",
       "  'pressure': 1014,\n",
       "  'humidity': 94},\n",
       " 'visibility': 10000,\n",
       " 'wind': {'speed': 5.82, 'deg': 100},\n",
       " 'clouds': {'all': 20},\n",
       " 'dt': 1601253063,\n",
       " 'sys': {'type': 1,\n",
       "  'id': 3409,\n",
       "  'country': 'US',\n",
       "  'sunrise': 1601203584,\n",
       "  'sunset': 1601246521},\n",
       " 'timezone': -14400,\n",
       " 'id': 4845585,\n",
       " 'name': 'Westport',\n",
       " 'cod': 200}"
      ]
     },
     "execution_count": 52,
     "metadata": {},
     "output_type": "execute_result"
    }
   ],
   "source": [
    "city_name = []\n",
    "latitude = []\n",
    "longitude =[]\n",
    "temperature_f = []\n",
    "humidity = []\n",
    "cloudiness = []\n",
    "wind_speed = []\n",
    "country = []\n",
    "date = []\n",
    "count = 1\n",
    "base_url = \"https://api.openweathermap.org/data/2.5/weather?\"\n",
    "\n",
    "# Log file print statement\n",
    "print(f\"Begin Data Retrieval\")\n",
    "print(f\"----------------------------------\")\n",
    "\n",
    "for city in unique_cities:\n",
    "    try:\n",
    "        query_url = f'q={city}&appid={weather_api_key}&units=imperial'\n",
    "        #api call for individual cities\n",
    "        url = base_url + query_url\n",
    "        weather_data = requests.get(url).json()\n",
    "        city_name.append(weather_data['name'])\n",
    "        latitude.append(weather_data['coord']['lat'])\n",
    "        longitude.append(weather_data['coord']['lon'])\n",
    "        temperature_f.append(weather_data['main']['temp'])\n",
    "        humidity.append(weather_data['main']['humidity'])\n",
    "        cloudiness.append(weather_data['clouds']['all'])\n",
    "        wind_speed.append(weather_data['wind']['speed'])\n",
    "        country.append(weather_data['sys']['country'])\n",
    "        date.append(weather_data['dt'])\n",
    "    except KeyError: 'name'\n",
    "        \n",
    "\n",
    "    print\n",
    "    print(f\"Processing Record {count} | {city}\")\n",
    "    count += 1\n",
    "    \n",
    "print(f\"----------------------------------\")    \n",
    "print(f\"Data Retrieval Complete\")\n",
    "print(f\"----------------------------------\")\n",
    "# print(city_name)\n",
    "# print(latitude)\n",
    "# print(longitude)\n",
    "# print(temperature_f)\n",
    "# print(humidity)\n",
    "# print(cloudiness)\n",
    "# print(wind_speed)\n",
    "weather_data"
   ]
  },
  {
   "cell_type": "markdown",
   "metadata": {},
   "source": [
    "### Convert Raw Data to DataFrame\n",
    "* Export the city data into a .csv.\n",
    "* Display the DataFrame"
   ]
  },
  {
   "cell_type": "code",
   "execution_count": 56,
   "metadata": {},
   "outputs": [
    {
     "data": {
      "text/html": [
       "<div>\n",
       "<style scoped>\n",
       "    .dataframe tbody tr th:only-of-type {\n",
       "        vertical-align: middle;\n",
       "    }\n",
       "\n",
       "    .dataframe tbody tr th {\n",
       "        vertical-align: top;\n",
       "    }\n",
       "\n",
       "    .dataframe thead th {\n",
       "        text-align: right;\n",
       "    }\n",
       "</style>\n",
       "<table border=\"1\" class=\"dataframe\">\n",
       "  <thead>\n",
       "    <tr style=\"text-align: right;\">\n",
       "      <th></th>\n",
       "      <th>cities</th>\n",
       "      <th>lat</th>\n",
       "      <th>long</th>\n",
       "      <th>fahrenheit</th>\n",
       "      <th>humidity</th>\n",
       "      <th>cloudiness</th>\n",
       "      <th>wind_speed</th>\n",
       "      <th>country</th>\n",
       "      <th>date</th>\n",
       "    </tr>\n",
       "  </thead>\n",
       "  <tbody>\n",
       "    <tr>\n",
       "      <th>0</th>\n",
       "      <td>Hithadhoo</td>\n",
       "      <td>-0.60</td>\n",
       "      <td>73.08</td>\n",
       "      <td>82.69</td>\n",
       "      <td>66</td>\n",
       "      <td>100</td>\n",
       "      <td>3.87</td>\n",
       "      <td>MV</td>\n",
       "      <td>1601253182</td>\n",
       "    </tr>\n",
       "    <tr>\n",
       "      <th>1</th>\n",
       "      <td>Jefferson City</td>\n",
       "      <td>38.58</td>\n",
       "      <td>-92.17</td>\n",
       "      <td>57.45</td>\n",
       "      <td>87</td>\n",
       "      <td>90</td>\n",
       "      <td>14.99</td>\n",
       "      <td>US</td>\n",
       "      <td>1601252967</td>\n",
       "    </tr>\n",
       "    <tr>\n",
       "      <th>2</th>\n",
       "      <td>Port Alfred</td>\n",
       "      <td>-33.59</td>\n",
       "      <td>26.89</td>\n",
       "      <td>52.66</td>\n",
       "      <td>70</td>\n",
       "      <td>2</td>\n",
       "      <td>8.46</td>\n",
       "      <td>ZA</td>\n",
       "      <td>1601253182</td>\n",
       "    </tr>\n",
       "    <tr>\n",
       "      <th>3</th>\n",
       "      <td>Busselton</td>\n",
       "      <td>-33.65</td>\n",
       "      <td>115.33</td>\n",
       "      <td>58.10</td>\n",
       "      <td>89</td>\n",
       "      <td>99</td>\n",
       "      <td>9.06</td>\n",
       "      <td>AU</td>\n",
       "      <td>1601253183</td>\n",
       "    </tr>\n",
       "    <tr>\n",
       "      <th>4</th>\n",
       "      <td>Pozo Colorado</td>\n",
       "      <td>-23.49</td>\n",
       "      <td>-58.80</td>\n",
       "      <td>69.26</td>\n",
       "      <td>70</td>\n",
       "      <td>31</td>\n",
       "      <td>9.26</td>\n",
       "      <td>PY</td>\n",
       "      <td>1601253183</td>\n",
       "    </tr>\n",
       "    <tr>\n",
       "      <th>...</th>\n",
       "      <td>...</td>\n",
       "      <td>...</td>\n",
       "      <td>...</td>\n",
       "      <td>...</td>\n",
       "      <td>...</td>\n",
       "      <td>...</td>\n",
       "      <td>...</td>\n",
       "      <td>...</td>\n",
       "      <td>...</td>\n",
       "    </tr>\n",
       "    <tr>\n",
       "      <th>76</th>\n",
       "      <td>Lucapa</td>\n",
       "      <td>-8.42</td>\n",
       "      <td>20.74</td>\n",
       "      <td>70.52</td>\n",
       "      <td>74</td>\n",
       "      <td>20</td>\n",
       "      <td>4.45</td>\n",
       "      <td>AO</td>\n",
       "      <td>1601253290</td>\n",
       "    </tr>\n",
       "    <tr>\n",
       "      <th>77</th>\n",
       "      <td>Innisfail</td>\n",
       "      <td>-17.53</td>\n",
       "      <td>146.03</td>\n",
       "      <td>78.01</td>\n",
       "      <td>56</td>\n",
       "      <td>11</td>\n",
       "      <td>5.99</td>\n",
       "      <td>AU</td>\n",
       "      <td>1601253291</td>\n",
       "    </tr>\n",
       "    <tr>\n",
       "      <th>78</th>\n",
       "      <td>Gabú</td>\n",
       "      <td>12.28</td>\n",
       "      <td>-14.22</td>\n",
       "      <td>74.08</td>\n",
       "      <td>96</td>\n",
       "      <td>97</td>\n",
       "      <td>4.36</td>\n",
       "      <td>GW</td>\n",
       "      <td>1601253291</td>\n",
       "    </tr>\n",
       "    <tr>\n",
       "      <th>79</th>\n",
       "      <td>Road Town</td>\n",
       "      <td>18.42</td>\n",
       "      <td>-64.62</td>\n",
       "      <td>78.80</td>\n",
       "      <td>78</td>\n",
       "      <td>20</td>\n",
       "      <td>6.93</td>\n",
       "      <td>VG</td>\n",
       "      <td>1601253292</td>\n",
       "    </tr>\n",
       "    <tr>\n",
       "      <th>80</th>\n",
       "      <td>Westport</td>\n",
       "      <td>41.14</td>\n",
       "      <td>-73.36</td>\n",
       "      <td>70.23</td>\n",
       "      <td>94</td>\n",
       "      <td>20</td>\n",
       "      <td>5.82</td>\n",
       "      <td>US</td>\n",
       "      <td>1601253063</td>\n",
       "    </tr>\n",
       "  </tbody>\n",
       "</table>\n",
       "<p>81 rows × 9 columns</p>\n",
       "</div>"
      ],
      "text/plain": [
       "            cities    lat    long  fahrenheit  humidity  cloudiness  \\\n",
       "0        Hithadhoo  -0.60   73.08       82.69        66         100   \n",
       "1   Jefferson City  38.58  -92.17       57.45        87          90   \n",
       "2      Port Alfred -33.59   26.89       52.66        70           2   \n",
       "3        Busselton -33.65  115.33       58.10        89          99   \n",
       "4    Pozo Colorado -23.49  -58.80       69.26        70          31   \n",
       "..             ...    ...     ...         ...       ...         ...   \n",
       "76          Lucapa  -8.42   20.74       70.52        74          20   \n",
       "77       Innisfail -17.53  146.03       78.01        56          11   \n",
       "78            Gabú  12.28  -14.22       74.08        96          97   \n",
       "79       Road Town  18.42  -64.62       78.80        78          20   \n",
       "80        Westport  41.14  -73.36       70.23        94          20   \n",
       "\n",
       "    wind_speed country        date  \n",
       "0         3.87      MV  1601253182  \n",
       "1        14.99      US  1601252967  \n",
       "2         8.46      ZA  1601253182  \n",
       "3         9.06      AU  1601253183  \n",
       "4         9.26      PY  1601253183  \n",
       "..         ...     ...         ...  \n",
       "76        4.45      AO  1601253290  \n",
       "77        5.99      AU  1601253291  \n",
       "78        4.36      GW  1601253291  \n",
       "79        6.93      VG  1601253292  \n",
       "80        5.82      US  1601253063  \n",
       "\n",
       "[81 rows x 9 columns]"
      ]
     },
     "execution_count": 56,
     "metadata": {},
     "output_type": "execute_result"
    }
   ],
   "source": [
    "#create a df with all unique cities\n",
    "data_set = {'cities': city_name,\n",
    "'lat' : latitude,\n",
    "'long' : longitude,\n",
    "'fahrenheit' : temperature_f,\n",
    "'humidity' : humidity,\n",
    "'cloudiness' : cloudiness,\n",
    "'wind_speed' : wind_speed,\n",
    "'country' : country,\n",
    "'date' : date}\n",
    "weather_data_df = pd.DataFrame(data_set)\n",
    "weather_data_df\n",
    "\n",
    "#export file to csv"
   ]
  },
  {
   "cell_type": "markdown",
   "metadata": {},
   "source": [
    "## Inspect the data and remove the cities where the humidity > 100%.\n",
    "----\n",
    "Skip this step if there are no cities that have humidity > 100%. "
   ]
  },
  {
   "cell_type": "code",
   "execution_count": 62,
   "metadata": {},
   "outputs": [
    {
     "data": {
      "text/plain": [
       "cities        0\n",
       "lat           0\n",
       "long          0\n",
       "fahrenheit    0\n",
       "humidity      0\n",
       "cloudiness    0\n",
       "wind_speed    0\n",
       "country       0\n",
       "date          0\n",
       "dtype: int64"
      ]
     },
     "execution_count": 62,
     "metadata": {},
     "output_type": "execute_result"
    }
   ],
   "source": [
    "#check to see if there are any with over 100% humidity\n",
    "humidity_under_hundred = weather_data_df.loc[weather_data_df['humidity'] > 100]\n",
    "humidity_under_hundred.count()"
   ]
  },
  {
   "cell_type": "code",
   "execution_count": 63,
   "metadata": {},
   "outputs": [],
   "source": [
    "#  Get the indices of cities that have humidity over 100%.\n"
   ]
  },
  {
   "cell_type": "code",
   "execution_count": 64,
   "metadata": {},
   "outputs": [],
   "source": [
    "# Make a new DataFrame equal to the city data to drop all humidity outliers by index.\n",
    "# Passing \"inplace=False\" will make a copy of the city_data DataFrame, which we call \"clean_city_data\".\n"
   ]
  },
  {
   "cell_type": "code",
   "execution_count": 75,
   "metadata": {},
   "outputs": [
    {
     "data": {
      "text/plain": [
       "<matplotlib.collections.PathCollection at 0x7feb3808b7c0>"
      ]
     },
     "execution_count": 75,
     "metadata": {},
     "output_type": "execute_result"
    },
    {
     "data": {
      "image/png": "[encoded data removed]",
      "text/plain": [
       "<Figure size 432x288 with 1 Axes>"
      ]
     },
     "metadata": {
      "needs_background": "light"
     },
     "output_type": "display_data"
    }
   ],
   "source": [
    "#lat_v_temp = weather_data_df[[\"cities\",\"lat\",\"fahrenheit\"]]\n",
    "\n"
   ]
  },
  {
   "cell_type": "markdown",
   "metadata": {},
   "source": [
    "## Plotting the Data\n",
    "* Use proper labeling of the plots using plot titles (including date of analysis) and axes labels.\n",
    "* Save the plotted figures as .pngs."
   ]
  },
  {
   "cell_type": "markdown",
   "metadata": {},
   "source": [
    "## Latitude vs. Temperature Plot"
   ]
  },
  {
   "cell_type": "code",
   "execution_count": 81,
   "metadata": {
    "scrolled": true
   },
   "outputs": [
    {
     "data": {
      "text/plain": [
       "Text(0, 0.5, 'Temperature in Fahrenheit')"
      ]
     },
     "execution_count": 81,
     "metadata": {},
     "output_type": "execute_result"
    },
    {
     "data": {
      "image/png": "[encoded data removed]",
      "text/plain": [
       "<Figure size 432x288 with 1 Axes>"
      ]
     },
     "metadata": {
      "needs_background": "light"
     },
     "output_type": "display_data"
    }
   ],
   "source": [
    "#set the x_axis values to latitude\n",
    "x_axis = weather_data_df[\"lat\"]\n",
    "y_axis = weather_data_df[\"fahrenheit\"]\n",
    "\n",
    "#plot scatter graph \n",
    "plt.scatter(x_axis, y_axis, marker = \"o\", facecolors=\"red\", edgecolors = \"black\")\n",
    "#label graph\n",
    "plt.title(\"Latitude vs. Temperature Plot\")\n",
    "plt.xlabel(\"Latitude in degrees\")\n",
    "plt.ylabel(\"Temperature in Fahrenheit\")"
   ]
  },
  {
   "cell_type": "markdown",
   "metadata": {},
   "source": [
    "## Latitude vs. Humidity Plot"
   ]
  },
  {
   "cell_type": "code",
   "execution_count": 82,
   "metadata": {},
   "outputs": [
    {
     "data": {
      "text/plain": [
       "Text(0, 0.5, 'Humidity in degrees')"
      ]
     },
     "execution_count": 82,
     "metadata": {},
     "output_type": "execute_result"
    },
    {
     "data": {
      "image/png": "[encoded data removed]",
      "text/plain": [
       "<Figure size 432x288 with 1 Axes>"
      ]
     },
     "metadata": {
      "needs_background": "light"
     },
     "output_type": "display_data"
    }
   ],
   "source": [
    "#set the x_axis values to latitude and y_axis to comparing units\n",
    "x_axis = weather_data_df[\"lat\"]\n",
    "y_axis = weather_data_df[\"humidity\"]\n",
    "\n",
    "#plot scatter graph \n",
    "plt.scatter(x_axis, y_axis, marker = \"o\", facecolors=\"red\", edgecolors = \"black\")\n",
    "#label graph\n",
    "plt.title(\"Latitude vs. Humidity Plot\")\n",
    "plt.xlabel(\"Latitude in degrees\")\n",
    "plt.ylabel(\"Humidity in degrees\")"
   ]
  },
  {
   "cell_type": "markdown",
   "metadata": {},
   "source": [
    "## Latitude vs. Cloudiness Plot"
   ]
  },
  {
   "cell_type": "code",
   "execution_count": 83,
   "metadata": {},
   "outputs": [
    {
     "data": {
      "text/plain": [
       "Text(0, 0.5, 'Percentage of Cloudiness')"
      ]
     },
     "execution_count": 83,
     "metadata": {},
     "output_type": "execute_result"
    },
    {
     "data": {
      "image/png": "[encoded data removed]",
      "text/plain": [
       "<Figure size 432x288 with 1 Axes>"
      ]
     },
     "metadata": {
      "needs_background": "light"
     },
     "output_type": "display_data"
    }
   ],
   "source": [
    "#set the x_axis values to latitude and y_axis to comparing units\n",
    "x_axis = weather_data_df[\"lat\"]\n",
    "y_axis = weather_data_df[\"cloudiness\"]\n",
    "\n",
    "#plot scatter graph \n",
    "plt.scatter(x_axis, y_axis, marker = \"o\", facecolors=\"red\", edgecolors = \"black\")\n",
    "#label graph\n",
    "plt.title(\"Latitude vs. Cloudiness Plot\")\n",
    "plt.xlabel(\"Latitude in degrees\")\n",
    "plt.ylabel(\"Percentage of Cloudiness\")"
   ]
  },
  {
   "cell_type": "markdown",
   "metadata": {},
   "source": [
    "## Latitude vs. Wind Speed Plot"
   ]
  },
  {
   "cell_type": "code",
   "execution_count": 84,
   "metadata": {},
   "outputs": [
    {
     "data": {
      "text/plain": [
       "Text(0, 0.5, 'Wind Speed (mph)')"
      ]
     },
     "execution_count": 84,
     "metadata": {},
     "output_type": "execute_result"
    },
    {
     "data": {
      "image/png": "[encoded data removed]",
      "text/plain": [
       "<Figure size 432x288 with 1 Axes>"
      ]
     },
     "metadata": {
      "needs_background": "light"
     },
     "output_type": "display_data"
    }
   ],
   "source": [
    "#set the x_axis values to latitude and y_axis to comparing units\n",
    "x_axis = weather_data_df[\"lat\"]\n",
    "y_axis = weather_data_df[\"wind_speed\"]\n",
    "\n",
    "#plot scatter graph \n",
    "plt.scatter(x_axis, y_axis, marker = \"o\", facecolors=\"red\", edgecolors = \"black\")\n",
    "#label graph\n",
    "plt.title(\"Latitude vs. Wind Speed Plot\")\n",
    "plt.xlabel(\"Latitude in degrees\")\n",
    "plt.ylabel(\"Wind Speed (mph)\")"
   ]
  },
  {
   "cell_type": "markdown",
   "metadata": {},
   "source": [
    "## Linear Regression"
   ]
  },
  {
   "cell_type": "code",
   "execution_count": null,
   "metadata": {},
   "outputs": [],
   "source": []
  },
  {
   "cell_type": "markdown",
   "metadata": {},
   "source": [
    "####  Northern Hemisphere - Max Temp vs. Latitude Linear Regression"
   ]
  },
  {
   "cell_type": "code",
   "execution_count": null,
   "metadata": {},
   "outputs": [],
   "source": []
  },
  {
   "cell_type": "markdown",
   "metadata": {},
   "source": [
    "####  Southern Hemisphere - Max Temp vs. Latitude Linear Regression"
   ]
  },
  {
   "cell_type": "code",
   "execution_count": null,
   "metadata": {},
   "outputs": [],
   "source": []
  },
  {
   "cell_type": "markdown",
   "metadata": {},
   "source": [
    "####  Northern Hemisphere - Humidity (%) vs. Latitude Linear Regression"
   ]
  },
  {
   "cell_type": "code",
   "execution_count": null,
   "metadata": {},
   "outputs": [],
   "source": []
  },
  {
   "cell_type": "markdown",
   "metadata": {},
   "source": [
    "####  Southern Hemisphere - Humidity (%) vs. Latitude Linear Regression"
   ]
  },
  {
   "cell_type": "code",
   "execution_count": null,
   "metadata": {},
   "outputs": [],
   "source": []
  },
  {
   "cell_type": "markdown",
   "metadata": {},
   "source": [
    "####  Northern Hemisphere - Cloudiness (%) vs. Latitude Linear Regression"
   ]
  },
  {
   "cell_type": "code",
   "execution_count": null,
   "metadata": {},
   "outputs": [],
   "source": []
  },
  {
   "cell_type": "markdown",
   "metadata": {},
   "source": [
    "####  Southern Hemisphere - Cloudiness (%) vs. Latitude Linear Regression"
   ]
  },
  {
   "cell_type": "code",
   "execution_count": null,
   "metadata": {},
   "outputs": [],
   "source": []
  },
  {
   "cell_type": "markdown",
   "metadata": {},
   "source": [
    "####  Northern Hemisphere - Wind Speed (mph) vs. Latitude Linear Regression"
   ]
  },
  {
   "cell_type": "code",
   "execution_count": null,
   "metadata": {},
   "outputs": [],
   "source": []
  },
  {
   "cell_type": "markdown",
   "metadata": {},
   "source": [
    "####  Southern Hemisphere - Wind Speed (mph) vs. Latitude Linear Regression"
   ]
  },
  {
   "cell_type": "code",
   "execution_count": null,
   "metadata": {},
   "outputs": [],
   "source": []
  },
  {
   "cell_type": "code",
   "execution_count": null,
   "metadata": {},
   "outputs": [],
   "source": []
  }
 ],
 "metadata": {
  "anaconda-cloud": {},
  "kernel_info": {
   "name": "python3"
  },
  "kernelspec": {
   "display_name": "Python 3",
   "language": "python",
   "name": "python3"
  },
  "language_info": {
   "codemirror_mode": {
    "name": "ipython",
    "version": 3
   },
   "file_extension": ".py",
   "mimetype": "text/x-python",
   "name": "python",
   "nbconvert_exporter": "python",
   "pygments_lexer": "ipython3",
   "version": "3.8.3"
  },
  "latex_envs": {
   "LaTeX_envs_menu_present": true,
   "autoclose": false,
   "autocomplete": true,
   "bibliofile": "biblio.bib",
   "cite_by": "apalike",
   "current_citInitial": 1,
   "eqLabelWithNumbers": true,
   "eqNumInitial": 1,
   "hotkeys": {
    "equation": "Ctrl-E",
    "itemize": "Ctrl-I"
   },
   "labels_anchors": false,
   "latex_user_defs": false,
   "report_style_numbering": false,
   "user_envs_cfg": false
  },
  "nteract": {
   "version": "0.12.3"
  }
 },
 "nbformat": 4,
 "nbformat_minor": 2
}

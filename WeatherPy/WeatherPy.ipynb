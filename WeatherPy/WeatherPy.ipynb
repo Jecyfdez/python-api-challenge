{
 "cells": [
  {
   "cell_type": "markdown",
   "metadata": {},
   "source": [
    "# WeatherPy\n",
    "----\n",
    "\n",
    "#### Note\n",
    "* Instructions have been included for each segment. You do not have to follow them exactly, but they are included to help you think through the steps."
   ]
  },
  {
   "cell_type": "code",
   "execution_count": 1,
   "metadata": {},
   "outputs": [],
   "source": [
    "# Dependencies and Setup\n",
    "import matplotlib.pyplot as plt\n",
    "import pandas as pd\n",
    "import numpy as np\n",
    "from scipy.stats import linregress\n",
    "\n",
    "import requests\n",
    "from api_keys import weather_api_key\n",
    "import json\n",
    "\n",
    "# import os\n",
    "# import csv\n",
    "\n",
    "from citipy import citipy\n",
    "\n",
    "# Range of latitudes and longitudes\n",
    "latitude_range = (-90, 90)\n",
    "longitude_range = (-180, 180)"
   ]
  },
  {
   "cell_type": "code",
   "execution_count": 2,
   "metadata": {},
   "outputs": [],
   "source": [
    "#create a list for latitude and longitude\n",
    "lat_points =[]\n",
    "long_points =[]\n",
    "\n",
    "#find array of latitude coordinates\n",
    "random_lat = np.random.uniform(low=-90.00, high=90.00, size=100)\n",
    "#find array of longitude coordinates\n",
    "random_long = np.random.uniform(low=-180.00, high=180.00, size=100)\n",
    "#create coordinate combinations\n",
    "coordinates = zip(random_lat,random_long)"
   ]
  },
  {
   "cell_type": "code",
   "execution_count": 3,
   "metadata": {},
   "outputs": [
    {
     "name": "stdout",
     "output_type": "stream",
     "text": [
      "['revelstoke', 'vammala', 'ketchenery', 'tessalit', 'faanui', 'mahebourg', 'gushikawa', 'castro', 'bardiyah', 'rikitea', 'atuona', 'qandala', 'mineiros', 'marawi', 'impfondo', 'the pas', 'souillac', 'yura', 'bluff', 'hithadhoo', 'klaksvik', 'senanga', 'chake chake', 'ancud', 'winnemucca', 'qaanaaq', 'punta arenas', 'ushuaia', 'bambous virieux', 'husavik', 'lavrentiya', 'taolanaro', 'phonhong', 'katima mulilo', 'hilo', 'makakilo city', 'ponta do sol', 'ixtapa', 'wagar', 'saint george', 'pangnirtung', 'busselton', 'cockburn town', 'hermanus', 'mataura', 'talnakh', 'kodiak', 'sentyabrskiy', 'okhotsk', 'belushya guba', 'oriximina', 'cape town', 'arraial do cabo', 'upata', 'plainview', 'lagoa', 'lodja', 'vaini', 'yellowknife', 'lakatoro', 'srednekolymsk', 'butaritari', 'mount gambier', 'palmer', 'korla', 'quatre cocos', 'antofagasta', 'zapolyarnyy', 'baley', 'payo', 'albany', 'kuche', 'isangel', 'bosaso', 'kaitangata', 'cherskiy', 'sitka', 'paamiut', 'khatanga', 'moses lake', 'dongsheng', 'cayenne']\n"
     ]
    }
   ],
   "source": [
    "#create a list for cities to live\n",
    "unique_cities = []\n",
    "random_cities = []\n",
    "#Loop through coordinates to create a list of nearest cities\n",
    "for coordinates in coordinates:\n",
    "    city = citipy.nearest_city(coordinates[0], coordinates[1]).city_name\n",
    "    \n",
    "    #remove the space in between cities with more than 2 names\n",
    "    #city = city.replace(\" \", \"20%\")\n",
    "    \n",
    "    #remove potential repeating cities\n",
    "    if city not in unique_cities:\n",
    "        unique_cities.append(city)\n",
    "    \n",
    "print(unique_cities)"
   ]
  },
  {
   "cell_type": "markdown",
   "metadata": {},
   "source": [
    "## Generate Cities List"
   ]
  },
  {
   "cell_type": "code",
   "execution_count": 4,
   "metadata": {},
   "outputs": [
    {
     "data": {
      "text/plain": [
       "82"
      ]
     },
     "execution_count": 4,
     "metadata": {},
     "output_type": "execute_result"
    }
   ],
   "source": [
    "len(unique_cities)"
   ]
  },
  {
   "cell_type": "markdown",
   "metadata": {},
   "source": [
    "### Perform API Calls\n",
    "* Perform a weather check on each city using a series of successive API calls.\n",
    "* Include a print log of each city as it'sbeing processed (with the city number and city name).\n"
   ]
  },
  {
   "cell_type": "code",
   "execution_count": 5,
   "metadata": {},
   "outputs": [
    {
     "name": "stdout",
     "output_type": "stream",
     "text": [
      "Begin Data Retrieval\n",
      "----------------------------------\n",
      "Processing Record 1 | revelstoke\n",
      "Processing Record 2 | vammala\n",
      "Processing Record 3 | ketchenery\n",
      "Processing Record 4 | tessalit\n",
      "Processing Record 5 | faanui\n",
      "Processing Record 6 | mahebourg\n",
      "Processing Record 7 | gushikawa\n",
      "Processing Record 8 | castro\n",
      "Processing Record 9 | bardiyah\n",
      "Processing Record 10 | rikitea\n",
      "Processing Record 11 | atuona\n",
      "Processing Record 12 | qandala\n",
      "Processing Record 13 | mineiros\n",
      "Processing Record 14 | marawi\n",
      "Processing Record 15 | impfondo\n",
      "Processing Record 16 | the pas\n",
      "Processing Record 17 | souillac\n",
      "Processing Record 18 | yura\n",
      "Processing Record 19 | bluff\n",
      "Processing Record 20 | hithadhoo\n",
      "Processing Record 21 | klaksvik\n",
      "Processing Record 22 | senanga\n",
      "Processing Record 23 | chake chake\n",
      "Processing Record 24 | ancud\n",
      "Processing Record 25 | winnemucca\n",
      "Processing Record 26 | qaanaaq\n",
      "Processing Record 27 | punta arenas\n",
      "Processing Record 28 | ushuaia\n",
      "Processing Record 29 | bambous virieux\n",
      "Processing Record 30 | husavik\n",
      "Processing Record 31 | lavrentiya\n",
      "Processing Record 32 | taolanaro\n",
      "Processing Record 33 | phonhong\n",
      "Processing Record 34 | katima mulilo\n",
      "Processing Record 35 | hilo\n",
      "Processing Record 36 | makakilo city\n",
      "Processing Record 37 | ponta do sol\n",
      "Processing Record 38 | ixtapa\n",
      "Processing Record 39 | wagar\n",
      "Processing Record 40 | saint george\n",
      "Processing Record 41 | pangnirtung\n",
      "Processing Record 42 | busselton\n",
      "Processing Record 43 | cockburn town\n",
      "Processing Record 44 | hermanus\n",
      "Processing Record 45 | mataura\n",
      "Processing Record 46 | talnakh\n",
      "Processing Record 47 | kodiak\n",
      "Processing Record 48 | sentyabrskiy\n",
      "Processing Record 49 | okhotsk\n",
      "Processing Record 50 | belushya guba\n",
      "Processing Record 51 | oriximina\n",
      "Processing Record 52 | cape town\n",
      "Processing Record 53 | arraial do cabo\n",
      "Processing Record 54 | upata\n",
      "Processing Record 55 | plainview\n",
      "Processing Record 56 | lagoa\n",
      "Processing Record 57 | lodja\n",
      "Processing Record 58 | vaini\n",
      "Processing Record 59 | yellowknife\n",
      "Processing Record 60 | lakatoro\n",
      "Processing Record 61 | srednekolymsk\n",
      "Processing Record 62 | butaritari\n",
      "Processing Record 63 | mount gambier\n",
      "Processing Record 64 | palmer\n",
      "Processing Record 65 | korla\n",
      "Processing Record 66 | quatre cocos\n",
      "Processing Record 67 | antofagasta\n",
      "Processing Record 68 | zapolyarnyy\n",
      "Processing Record 69 | baley\n",
      "Processing Record 70 | payo\n",
      "Processing Record 71 | albany\n",
      "Processing Record 72 | kuche\n",
      "Processing Record 73 | isangel\n",
      "Processing Record 74 | bosaso\n",
      "Processing Record 75 | kaitangata\n",
      "Processing Record 76 | cherskiy\n",
      "Processing Record 77 | sitka\n",
      "Processing Record 78 | paamiut\n",
      "Processing Record 79 | khatanga\n",
      "Processing Record 80 | moses lake\n",
      "Processing Record 81 | dongsheng\n",
      "Processing Record 82 | cayenne\n",
      "----------------------------------\n",
      "Data Retrieval Complete\n",
      "----------------------------------\n"
     ]
    }
   ],
   "source": [
    "city_name = []\n",
    "latitude = []\n",
    "longitude =[]\n",
    "temperature_f = []\n",
    "humidity = []\n",
    "cloudiness = []\n",
    "wind_speed = []\n",
    "country = []\n",
    "date = []\n",
    "count = 1\n",
    "base_url = \"https://api.openweathermap.org/data/2.5/weather?\"\n",
    "\n",
    "# Log file print statement\n",
    "print(f\"Begin Data Retrieval\")\n",
    "print(f\"----------------------------------\")\n",
    "\n",
    "for city in unique_cities:\n",
    "    try:\n",
    "        query_url = f'q={city}&appid={weather_api_key}&units=imperial'\n",
    "        #api call for individual cities\n",
    "        url = base_url + query_url\n",
    "        weather_data = requests.get(url).json()\n",
    "        city_name.append(weather_data['name'])\n",
    "        latitude.append(weather_data['coord']['lat'])\n",
    "        longitude.append(weather_data['coord']['lon'])\n",
    "        temperature_f.append(weather_data['main']['temp_max'])\n",
    "        humidity.append(weather_data['main']['humidity'])\n",
    "        cloudiness.append(weather_data['clouds']['all'])\n",
    "        wind_speed.append(weather_data['wind']['speed'])\n",
    "        country.append(weather_data['sys']['country'])\n",
    "        date.append(weather_data['dt'])\n",
    "    except KeyError: 'name'\n",
    "        \n",
    "\n",
    "    print\n",
    "    print(f\"Processing Record {count} | {city}\")\n",
    "    count += 1\n",
    "    \n",
    "print(f\"----------------------------------\")    \n",
    "print(f\"Data Retrieval Complete\")\n",
    "print(f\"----------------------------------\")\n",
    "# print(city_name)\n",
    "# print(latitude)\n",
    "# print(longitude)\n",
    "# print(temperature_f)\n",
    "# print(humidity)\n",
    "# print(cloudiness)\n",
    "# print(wind_speed)\n"
   ]
  },
  {
   "cell_type": "markdown",
   "metadata": {},
   "source": [
    "### Convert Raw Data to DataFrame\n",
    "* Export the city data into a .csv.\n",
    "* Display the DataFrame"
   ]
  },
  {
   "cell_type": "code",
   "execution_count": 6,
   "metadata": {},
   "outputs": [
    {
     "data": {
      "text/html": [
       "<div>\n",
       "<style scoped>\n",
       "    .dataframe tbody tr th:only-of-type {\n",
       "        vertical-align: middle;\n",
       "    }\n",
       "\n",
       "    .dataframe tbody tr th {\n",
       "        vertical-align: top;\n",
       "    }\n",
       "\n",
       "    .dataframe thead th {\n",
       "        text-align: right;\n",
       "    }\n",
       "</style>\n",
       "<table border=\"1\" class=\"dataframe\">\n",
       "  <thead>\n",
       "    <tr style=\"text-align: right;\">\n",
       "      <th></th>\n",
       "      <th>cities</th>\n",
       "      <th>lat</th>\n",
       "      <th>long</th>\n",
       "      <th>max_fahrenheit</th>\n",
       "      <th>humidity</th>\n",
       "      <th>cloudiness</th>\n",
       "      <th>wind_speed</th>\n",
       "      <th>country</th>\n",
       "      <th>date</th>\n",
       "    </tr>\n",
       "  </thead>\n",
       "  <tbody>\n",
       "    <tr>\n",
       "      <th>0</th>\n",
       "      <td>Revelstoke</td>\n",
       "      <td>50.98</td>\n",
       "      <td>-118.20</td>\n",
       "      <td>53.60</td>\n",
       "      <td>87</td>\n",
       "      <td>90</td>\n",
       "      <td>1.86</td>\n",
       "      <td>CA</td>\n",
       "      <td>1601257966</td>\n",
       "    </tr>\n",
       "    <tr>\n",
       "      <th>1</th>\n",
       "      <td>Vammala</td>\n",
       "      <td>61.33</td>\n",
       "      <td>22.90</td>\n",
       "      <td>52.00</td>\n",
       "      <td>100</td>\n",
       "      <td>0</td>\n",
       "      <td>3.36</td>\n",
       "      <td>FI</td>\n",
       "      <td>1601257967</td>\n",
       "    </tr>\n",
       "    <tr>\n",
       "      <th>2</th>\n",
       "      <td>Tessalit</td>\n",
       "      <td>20.20</td>\n",
       "      <td>1.01</td>\n",
       "      <td>85.80</td>\n",
       "      <td>13</td>\n",
       "      <td>0</td>\n",
       "      <td>8.93</td>\n",
       "      <td>ML</td>\n",
       "      <td>1601257968</td>\n",
       "    </tr>\n",
       "    <tr>\n",
       "      <th>3</th>\n",
       "      <td>Faanui</td>\n",
       "      <td>-16.48</td>\n",
       "      <td>-151.75</td>\n",
       "      <td>78.28</td>\n",
       "      <td>79</td>\n",
       "      <td>5</td>\n",
       "      <td>14.61</td>\n",
       "      <td>PF</td>\n",
       "      <td>1601257968</td>\n",
       "    </tr>\n",
       "    <tr>\n",
       "      <th>4</th>\n",
       "      <td>Mahébourg</td>\n",
       "      <td>-20.41</td>\n",
       "      <td>57.70</td>\n",
       "      <td>71.60</td>\n",
       "      <td>88</td>\n",
       "      <td>40</td>\n",
       "      <td>9.17</td>\n",
       "      <td>MU</td>\n",
       "      <td>1601257969</td>\n",
       "    </tr>\n",
       "    <tr>\n",
       "      <th>...</th>\n",
       "      <td>...</td>\n",
       "      <td>...</td>\n",
       "      <td>...</td>\n",
       "      <td>...</td>\n",
       "      <td>...</td>\n",
       "      <td>...</td>\n",
       "      <td>...</td>\n",
       "      <td>...</td>\n",
       "      <td>...</td>\n",
       "    </tr>\n",
       "    <tr>\n",
       "      <th>72</th>\n",
       "      <td>Paamiut</td>\n",
       "      <td>61.99</td>\n",
       "      <td>-49.67</td>\n",
       "      <td>36.75</td>\n",
       "      <td>79</td>\n",
       "      <td>0</td>\n",
       "      <td>17.22</td>\n",
       "      <td>GL</td>\n",
       "      <td>1601258000</td>\n",
       "    </tr>\n",
       "    <tr>\n",
       "      <th>73</th>\n",
       "      <td>Khatanga</td>\n",
       "      <td>71.97</td>\n",
       "      <td>102.50</td>\n",
       "      <td>31.42</td>\n",
       "      <td>95</td>\n",
       "      <td>92</td>\n",
       "      <td>10.51</td>\n",
       "      <td>RU</td>\n",
       "      <td>1601258001</td>\n",
       "    </tr>\n",
       "    <tr>\n",
       "      <th>74</th>\n",
       "      <td>Moses Lake</td>\n",
       "      <td>47.13</td>\n",
       "      <td>-119.28</td>\n",
       "      <td>69.80</td>\n",
       "      <td>30</td>\n",
       "      <td>1</td>\n",
       "      <td>3.60</td>\n",
       "      <td>US</td>\n",
       "      <td>1601258001</td>\n",
       "    </tr>\n",
       "    <tr>\n",
       "      <th>75</th>\n",
       "      <td>Dongsheng</td>\n",
       "      <td>39.82</td>\n",
       "      <td>109.98</td>\n",
       "      <td>59.49</td>\n",
       "      <td>69</td>\n",
       "      <td>100</td>\n",
       "      <td>15.32</td>\n",
       "      <td>CN</td>\n",
       "      <td>1601258002</td>\n",
       "    </tr>\n",
       "    <tr>\n",
       "      <th>76</th>\n",
       "      <td>Cayenne</td>\n",
       "      <td>4.93</td>\n",
       "      <td>-52.33</td>\n",
       "      <td>78.80</td>\n",
       "      <td>94</td>\n",
       "      <td>24</td>\n",
       "      <td>2.24</td>\n",
       "      <td>GF</td>\n",
       "      <td>1601258002</td>\n",
       "    </tr>\n",
       "  </tbody>\n",
       "</table>\n",
       "<p>77 rows × 9 columns</p>\n",
       "</div>"
      ],
      "text/plain": [
       "        cities    lat    long  max_fahrenheit  humidity  cloudiness  \\\n",
       "0   Revelstoke  50.98 -118.20           53.60        87          90   \n",
       "1      Vammala  61.33   22.90           52.00       100           0   \n",
       "2     Tessalit  20.20    1.01           85.80        13           0   \n",
       "3       Faanui -16.48 -151.75           78.28        79           5   \n",
       "4    Mahébourg -20.41   57.70           71.60        88          40   \n",
       "..         ...    ...     ...             ...       ...         ...   \n",
       "72     Paamiut  61.99  -49.67           36.75        79           0   \n",
       "73    Khatanga  71.97  102.50           31.42        95          92   \n",
       "74  Moses Lake  47.13 -119.28           69.80        30           1   \n",
       "75   Dongsheng  39.82  109.98           59.49        69         100   \n",
       "76     Cayenne   4.93  -52.33           78.80        94          24   \n",
       "\n",
       "    wind_speed country        date  \n",
       "0         1.86      CA  1601257966  \n",
       "1         3.36      FI  1601257967  \n",
       "2         8.93      ML  1601257968  \n",
       "3        14.61      PF  1601257968  \n",
       "4         9.17      MU  1601257969  \n",
       "..         ...     ...         ...  \n",
       "72       17.22      GL  1601258000  \n",
       "73       10.51      RU  1601258001  \n",
       "74        3.60      US  1601258001  \n",
       "75       15.32      CN  1601258002  \n",
       "76        2.24      GF  1601258002  \n",
       "\n",
       "[77 rows x 9 columns]"
      ]
     },
     "execution_count": 6,
     "metadata": {},
     "output_type": "execute_result"
    }
   ],
   "source": [
    "#create a df with all unique cities\n",
    "data_set = {'cities': city_name,\n",
    "'lat' : latitude,\n",
    "'long' : longitude,\n",
    "'max_fahrenheit' : temperature_f,\n",
    "'humidity' : humidity,\n",
    "'cloudiness' : cloudiness,\n",
    "'wind_speed' : wind_speed,\n",
    "'country' : country,\n",
    "'date' : date}\n",
    "weather_data_df = pd.DataFrame(data_set)\n",
    "weather_data_df\n",
    "\n",
    "#export file to csv"
   ]
  },
  {
   "cell_type": "markdown",
   "metadata": {},
   "source": [
    "## Inspect the data and remove the cities where the humidity > 100%.\n",
    "----\n",
    "Skip this step if there are no cities that have humidity > 100%. "
   ]
  },
  {
   "cell_type": "code",
   "execution_count": 7,
   "metadata": {},
   "outputs": [
    {
     "data": {
      "text/plain": [
       "cities            0\n",
       "lat               0\n",
       "long              0\n",
       "max_fahrenheit    0\n",
       "humidity          0\n",
       "cloudiness        0\n",
       "wind_speed        0\n",
       "country           0\n",
       "date              0\n",
       "dtype: int64"
      ]
     },
     "execution_count": 7,
     "metadata": {},
     "output_type": "execute_result"
    }
   ],
   "source": [
    "#check to see if there are any with over 100% humidity\n",
    "humidity_under_hundred = weather_data_df.loc[weather_data_df['humidity'] > 100]\n",
    "humidity_under_hundred.count()\n",
    "#there is none"
   ]
  },
  {
   "cell_type": "code",
   "execution_count": 8,
   "metadata": {},
   "outputs": [],
   "source": [
    "#  Get the indices of cities that have humidity over 100%.\n"
   ]
  },
  {
   "cell_type": "code",
   "execution_count": 9,
   "metadata": {},
   "outputs": [],
   "source": [
    "# Make a new DataFrame equal to the city data to drop all humidity outliers by index.\n",
    "# Passing \"inplace=False\" will make a copy of the city_data DataFrame, which we call \"clean_city_data\".\n"
   ]
  },
  {
   "cell_type": "markdown",
   "metadata": {},
   "source": [
    "## Plotting the Data\n",
    "* Use proper labeling of the plots using plot titles (including date of analysis) and axes labels.\n",
    "* Save the plotted figures as .pngs."
   ]
  },
  {
   "cell_type": "markdown",
   "metadata": {},
   "source": [
    "## Latitude vs. Temperature Plot"
   ]
  },
  {
   "cell_type": "code",
   "execution_count": 23,
   "metadata": {
    "scrolled": true
   },
   "outputs": [
    {
     "data": {
      "text/plain": [
       "Text(0, 0.5, 'Temperature in Fahrenheit')"
      ]
     },
     "execution_count": 23,
     "metadata": {},
     "output_type": "execute_result"
    },
    {
     "data": {
      "image/png": "[encoded data removed]",
      "text/plain": [
       "<Figure size 432x288 with 1 Axes>"
      ]
     },
     "metadata": {
      "needs_background": "light"
     },
     "output_type": "display_data"
    }
   ],
   "source": [
    "#set the x_axis values to latitude\n",
    "x_values = weather_data_df[\"lat\"]\n",
    "y_values = weather_data_df[\"max_fahrenheit\"]\n",
    "\n",
    "(slope, intercept, rvalue, pvalue, stderr) = linregress(x_values, y_values)\n",
    "regress_values = x_values *slope +intercept\n",
    "line_eq = \"y = \" + str(round(slope,2)) + \"x + \" + str(round(intercept,2))\n",
    "\n",
    "\n",
    "#plot scatter graph \n",
    "plt.scatter(x_values, y_values, marker = \"o\", facecolors=\"blue\", edgecolors = \"black\")\n",
    "plt.plot(x_values, regress_values, \"r-\")\n",
    "plt.annotate(line_eq,(0,50),fontsize=15,color=\"black\")\n",
    "#label graph\n",
    "plt.title(\"Latitude vs. Temperature Plot\")\n",
    "plt.xlabel(\"Latitude in degrees\")\n",
    "plt.ylabel(\"Temperature in Fahrenheit\")\n"
   ]
  },
  {
   "cell_type": "markdown",
   "metadata": {},
   "source": [
    "## Latitude vs. Humidity Plot"
   ]
  },
  {
   "cell_type": "code",
   "execution_count": 24,
   "metadata": {},
   "outputs": [
    {
     "data": {
      "text/plain": [
       "Text(0, 0.5, 'Percentage of Humidity')"
      ]
     },
     "execution_count": 24,
     "metadata": {},
     "output_type": "execute_result"
    },
    {
     "data": {
      "image/png": "[encoded data removed]",
      "text/plain": [
       "<Figure size 432x288 with 1 Axes>"
      ]
     },
     "metadata": {
      "needs_background": "light"
     },
     "output_type": "display_data"
    }
   ],
   "source": [
    "#set the x_axis values to latitude and y_axis to comparing units\n",
    "x_values = weather_data_df[\"lat\"]\n",
    "y_values = weather_data_df[\"humidity\"]\n",
    "\n",
    "(slope, intercept, rvalue, pvalue, stderr) = linregress(x_values, y_values)\n",
    "regress_values = x_values *slope +intercept\n",
    "line_eq = \"y = \" + str(round(slope,2)) + \"x + \" + str(round(intercept,2))\n",
    "\n",
    "\n",
    "#plot scatter graph \n",
    "plt.scatter(x_values, y_values, marker = \"o\", facecolors=\"blue\", edgecolors = \"black\")\n",
    "plt.plot(x_values, regress_values, \"r-\")\n",
    "plt.annotate(line_eq,(0,50),fontsize=15,color=\"black\")\n",
    "#label graph\n",
    "plt.title(\"Latitude vs. Humidity Plot\")\n",
    "plt.xlabel(\"Latitude in degrees\")\n",
    "plt.ylabel(\"Percentage of Humidity\")"
   ]
  },
  {
   "cell_type": "markdown",
   "metadata": {},
   "source": [
    "## Latitude vs. Cloudiness Plot"
   ]
  },
  {
   "cell_type": "code",
   "execution_count": 27,
   "metadata": {},
   "outputs": [
    {
     "data": {
      "text/plain": [
       "Text(0, 0.5, 'Percentage of Cloudiness')"
      ]
     },
     "execution_count": 27,
     "metadata": {},
     "output_type": "execute_result"
    },
    {
     "data": {
      "image/png": "[encoded data removed]",
      "text/plain": [
       "<Figure size 432x288 with 1 Axes>"
      ]
     },
     "metadata": {
      "needs_background": "light"
     },
     "output_type": "display_data"
    }
   ],
   "source": [
    "#set the x_axis values to latitude and y_axis to comparing units\n",
    "x_values = weather_data_df[\"lat\"]\n",
    "y_values = weather_data_df[\"cloudiness\"]\n",
    "\n",
    "(slope, intercept, rvalue, pvalue, stderr) = linregress(x_values, y_values)\n",
    "regress_values = x_values *slope +intercept\n",
    "line_eq = \"y = \" + str(round(slope,2)) + \"x + \" + str(round(intercept,2))\n",
    "\n",
    "\n",
    "#plot scatter graph \n",
    "plt.scatter(x_values, y_values, marker = \"o\", facecolors=\"blue\", edgecolors = \"black\")\n",
    "plt.plot(x_values, regress_values, \"r-\")\n",
    "plt.annotate(line_eq,(0,30),fontsize=15,color=\"black\")\n",
    "#label graph\n",
    "plt.title(\"Latitude vs. Cloudiness Plot\")\n",
    "plt.xlabel(\"Latitude in degrees\")\n",
    "plt.ylabel(\"Percentage of Cloudiness\")"
   ]
  },
  {
   "cell_type": "markdown",
   "metadata": {},
   "source": [
    "## Latitude vs. Wind Speed Plot"
   ]
  },
  {
   "cell_type": "code",
   "execution_count": 29,
   "metadata": {},
   "outputs": [
    {
     "data": {
      "text/plain": [
       "Text(0, 0.5, 'Wind Speed (mph)')"
      ]
     },
     "execution_count": 29,
     "metadata": {},
     "output_type": "execute_result"
    },
    {
     "data": {
      "image/png": "[encoded data removed]",
      "text/plain": [
       "<Figure size 432x288 with 1 Axes>"
      ]
     },
     "metadata": {
      "needs_background": "light"
     },
     "output_type": "display_data"
    }
   ],
   "source": [
    "#set the x_axis values to latitude and y_axis to comparing units\n",
    "x_values = weather_data_df[\"lat\"]\n",
    "y_values = weather_data_df[\"wind_speed\"]\n",
    "\n",
    "(slope, intercept, rvalue, pvalue, stderr) = linregress(x_values, y_values)\n",
    "regress_values = x_values *slope +intercept\n",
    "line_eq = \"y = \" + str(round(slope,2)) + \"x + \" + str(round(intercept,2))\n",
    "\n",
    "\n",
    "#plot scatter graph \n",
    "plt.scatter(x_values, y_values, marker = \"o\", facecolors=\"blue\", edgecolors = \"black\")\n",
    "plt.plot(x_values, regress_values, \"r-\")\n",
    "plt.annotate(line_eq,(0,20),fontsize=15,color=\"black\")\n",
    "#label graph\n",
    "plt.title(\"Latitude vs. Wind Speed Plot\")\n",
    "plt.xlabel(\"Latitude in degrees\")\n",
    "plt.ylabel(\"Wind Speed (mph)\")"
   ]
  },
  {
   "cell_type": "markdown",
   "metadata": {},
   "source": [
    "####  Northern Hemisphere - Max Temp vs. Latitude Linear Regression"
   ]
  },
  {
   "cell_type": "markdown",
   "metadata": {},
   "source": [
    "Your second requirement is to run linear regression on each relationship, only this time separating them into Northern Hemisphere (greater than or equal to 0 degrees latitude) and Southern Hemisphere (less than 0 degrees latitude):"
   ]
  },
  {
   "cell_type": "code",
   "execution_count": 14,
   "metadata": {},
   "outputs": [
    {
     "data": {
      "text/html": [
       "<div>\n",
       "<style scoped>\n",
       "    .dataframe tbody tr th:only-of-type {\n",
       "        vertical-align: middle;\n",
       "    }\n",
       "\n",
       "    .dataframe tbody tr th {\n",
       "        vertical-align: top;\n",
       "    }\n",
       "\n",
       "    .dataframe thead th {\n",
       "        text-align: right;\n",
       "    }\n",
       "</style>\n",
       "<table border=\"1\" class=\"dataframe\">\n",
       "  <thead>\n",
       "    <tr style=\"text-align: right;\">\n",
       "      <th></th>\n",
       "      <th>cities</th>\n",
       "      <th>lat</th>\n",
       "      <th>long</th>\n",
       "      <th>max_fahrenheit</th>\n",
       "      <th>humidity</th>\n",
       "      <th>cloudiness</th>\n",
       "      <th>wind_speed</th>\n",
       "      <th>country</th>\n",
       "      <th>date</th>\n",
       "    </tr>\n",
       "  </thead>\n",
       "  <tbody>\n",
       "    <tr>\n",
       "      <th>3</th>\n",
       "      <td>Faanui</td>\n",
       "      <td>-16.48</td>\n",
       "      <td>-151.75</td>\n",
       "      <td>78.28</td>\n",
       "      <td>79</td>\n",
       "      <td>5</td>\n",
       "      <td>14.61</td>\n",
       "      <td>PF</td>\n",
       "      <td>1601257968</td>\n",
       "    </tr>\n",
       "    <tr>\n",
       "      <th>4</th>\n",
       "      <td>Mahébourg</td>\n",
       "      <td>-20.41</td>\n",
       "      <td>57.70</td>\n",
       "      <td>71.60</td>\n",
       "      <td>88</td>\n",
       "      <td>40</td>\n",
       "      <td>9.17</td>\n",
       "      <td>MU</td>\n",
       "      <td>1601257969</td>\n",
       "    </tr>\n",
       "    <tr>\n",
       "      <th>6</th>\n",
       "      <td>Castro</td>\n",
       "      <td>-24.79</td>\n",
       "      <td>-50.01</td>\n",
       "      <td>65.68</td>\n",
       "      <td>79</td>\n",
       "      <td>100</td>\n",
       "      <td>5.61</td>\n",
       "      <td>BR</td>\n",
       "      <td>1601257692</td>\n",
       "    </tr>\n",
       "    <tr>\n",
       "      <th>8</th>\n",
       "      <td>Rikitea</td>\n",
       "      <td>-23.12</td>\n",
       "      <td>-134.97</td>\n",
       "      <td>74.64</td>\n",
       "      <td>78</td>\n",
       "      <td>0</td>\n",
       "      <td>11.10</td>\n",
       "      <td>PF</td>\n",
       "      <td>1601257966</td>\n",
       "    </tr>\n",
       "    <tr>\n",
       "      <th>9</th>\n",
       "      <td>Atuona</td>\n",
       "      <td>-9.80</td>\n",
       "      <td>-139.03</td>\n",
       "      <td>78.26</td>\n",
       "      <td>74</td>\n",
       "      <td>4</td>\n",
       "      <td>14.47</td>\n",
       "      <td>PF</td>\n",
       "      <td>1601257971</td>\n",
       "    </tr>\n",
       "    <tr>\n",
       "      <th>11</th>\n",
       "      <td>Mineiros</td>\n",
       "      <td>-17.57</td>\n",
       "      <td>-52.55</td>\n",
       "      <td>79.36</td>\n",
       "      <td>35</td>\n",
       "      <td>0</td>\n",
       "      <td>4.34</td>\n",
       "      <td>BR</td>\n",
       "      <td>1601257972</td>\n",
       "    </tr>\n",
       "    <tr>\n",
       "      <th>15</th>\n",
       "      <td>Souillac</td>\n",
       "      <td>-20.52</td>\n",
       "      <td>57.52</td>\n",
       "      <td>71.60</td>\n",
       "      <td>88</td>\n",
       "      <td>40</td>\n",
       "      <td>9.17</td>\n",
       "      <td>MU</td>\n",
       "      <td>1601257974</td>\n",
       "    </tr>\n",
       "    <tr>\n",
       "      <th>16</th>\n",
       "      <td>Yura</td>\n",
       "      <td>-16.25</td>\n",
       "      <td>-71.68</td>\n",
       "      <td>49.66</td>\n",
       "      <td>50</td>\n",
       "      <td>9</td>\n",
       "      <td>0.78</td>\n",
       "      <td>PE</td>\n",
       "      <td>1601257974</td>\n",
       "    </tr>\n",
       "    <tr>\n",
       "      <th>17</th>\n",
       "      <td>Bluff</td>\n",
       "      <td>-46.60</td>\n",
       "      <td>168.33</td>\n",
       "      <td>41.00</td>\n",
       "      <td>75</td>\n",
       "      <td>95</td>\n",
       "      <td>15.01</td>\n",
       "      <td>NZ</td>\n",
       "      <td>1601257974</td>\n",
       "    </tr>\n",
       "    <tr>\n",
       "      <th>18</th>\n",
       "      <td>Hithadhoo</td>\n",
       "      <td>-0.60</td>\n",
       "      <td>73.08</td>\n",
       "      <td>82.85</td>\n",
       "      <td>67</td>\n",
       "      <td>100</td>\n",
       "      <td>5.28</td>\n",
       "      <td>MV</td>\n",
       "      <td>1601257975</td>\n",
       "    </tr>\n",
       "    <tr>\n",
       "      <th>20</th>\n",
       "      <td>Senanga</td>\n",
       "      <td>-16.12</td>\n",
       "      <td>23.27</td>\n",
       "      <td>68.94</td>\n",
       "      <td>25</td>\n",
       "      <td>34</td>\n",
       "      <td>2.13</td>\n",
       "      <td>ZM</td>\n",
       "      <td>1601257976</td>\n",
       "    </tr>\n",
       "    <tr>\n",
       "      <th>21</th>\n",
       "      <td>Chake Chake</td>\n",
       "      <td>-5.25</td>\n",
       "      <td>39.77</td>\n",
       "      <td>74.77</td>\n",
       "      <td>91</td>\n",
       "      <td>22</td>\n",
       "      <td>5.17</td>\n",
       "      <td>TZ</td>\n",
       "      <td>1601257976</td>\n",
       "    </tr>\n",
       "    <tr>\n",
       "      <th>22</th>\n",
       "      <td>Ancud</td>\n",
       "      <td>-41.87</td>\n",
       "      <td>-73.82</td>\n",
       "      <td>46.99</td>\n",
       "      <td>90</td>\n",
       "      <td>79</td>\n",
       "      <td>1.01</td>\n",
       "      <td>CL</td>\n",
       "      <td>1601257977</td>\n",
       "    </tr>\n",
       "    <tr>\n",
       "      <th>25</th>\n",
       "      <td>Punta Arenas</td>\n",
       "      <td>-53.15</td>\n",
       "      <td>-70.92</td>\n",
       "      <td>46.40</td>\n",
       "      <td>65</td>\n",
       "      <td>40</td>\n",
       "      <td>31.09</td>\n",
       "      <td>CL</td>\n",
       "      <td>1601257749</td>\n",
       "    </tr>\n",
       "    <tr>\n",
       "      <th>26</th>\n",
       "      <td>Ushuaia</td>\n",
       "      <td>-54.80</td>\n",
       "      <td>-68.30</td>\n",
       "      <td>42.80</td>\n",
       "      <td>70</td>\n",
       "      <td>40</td>\n",
       "      <td>13.87</td>\n",
       "      <td>AR</td>\n",
       "      <td>1601257979</td>\n",
       "    </tr>\n",
       "    <tr>\n",
       "      <th>27</th>\n",
       "      <td>Bambous Virieux</td>\n",
       "      <td>-20.34</td>\n",
       "      <td>57.76</td>\n",
       "      <td>73.00</td>\n",
       "      <td>88</td>\n",
       "      <td>40</td>\n",
       "      <td>9.17</td>\n",
       "      <td>MU</td>\n",
       "      <td>1601257979</td>\n",
       "    </tr>\n",
       "    <tr>\n",
       "      <th>31</th>\n",
       "      <td>Katima Mulilo</td>\n",
       "      <td>-17.50</td>\n",
       "      <td>24.27</td>\n",
       "      <td>68.00</td>\n",
       "      <td>30</td>\n",
       "      <td>83</td>\n",
       "      <td>2.24</td>\n",
       "      <td>NA</td>\n",
       "      <td>1601257981</td>\n",
       "    </tr>\n",
       "    <tr>\n",
       "      <th>39</th>\n",
       "      <td>Busselton</td>\n",
       "      <td>-33.65</td>\n",
       "      <td>115.33</td>\n",
       "      <td>63.00</td>\n",
       "      <td>82</td>\n",
       "      <td>69</td>\n",
       "      <td>8.93</td>\n",
       "      <td>AU</td>\n",
       "      <td>1601257985</td>\n",
       "    </tr>\n",
       "    <tr>\n",
       "      <th>41</th>\n",
       "      <td>Hermanus</td>\n",
       "      <td>-34.42</td>\n",
       "      <td>19.23</td>\n",
       "      <td>37.99</td>\n",
       "      <td>93</td>\n",
       "      <td>0</td>\n",
       "      <td>5.53</td>\n",
       "      <td>ZA</td>\n",
       "      <td>1601257985</td>\n",
       "    </tr>\n",
       "    <tr>\n",
       "      <th>42</th>\n",
       "      <td>Mataura</td>\n",
       "      <td>-46.19</td>\n",
       "      <td>168.86</td>\n",
       "      <td>41.00</td>\n",
       "      <td>75</td>\n",
       "      <td>99</td>\n",
       "      <td>15.01</td>\n",
       "      <td>NZ</td>\n",
       "      <td>1601257986</td>\n",
       "    </tr>\n",
       "    <tr>\n",
       "      <th>46</th>\n",
       "      <td>Oriximiná</td>\n",
       "      <td>-1.77</td>\n",
       "      <td>-55.87</td>\n",
       "      <td>81.45</td>\n",
       "      <td>63</td>\n",
       "      <td>24</td>\n",
       "      <td>3.38</td>\n",
       "      <td>BR</td>\n",
       "      <td>1601257988</td>\n",
       "    </tr>\n",
       "    <tr>\n",
       "      <th>47</th>\n",
       "      <td>Cape Town</td>\n",
       "      <td>-33.93</td>\n",
       "      <td>18.42</td>\n",
       "      <td>42.01</td>\n",
       "      <td>86</td>\n",
       "      <td>0</td>\n",
       "      <td>1.12</td>\n",
       "      <td>ZA</td>\n",
       "      <td>1601257930</td>\n",
       "    </tr>\n",
       "    <tr>\n",
       "      <th>48</th>\n",
       "      <td>Arraial do Cabo</td>\n",
       "      <td>-22.97</td>\n",
       "      <td>-42.03</td>\n",
       "      <td>75.20</td>\n",
       "      <td>83</td>\n",
       "      <td>4</td>\n",
       "      <td>9.17</td>\n",
       "      <td>BR</td>\n",
       "      <td>1601257989</td>\n",
       "    </tr>\n",
       "    <tr>\n",
       "      <th>52</th>\n",
       "      <td>Lodja</td>\n",
       "      <td>-3.48</td>\n",
       "      <td>23.43</td>\n",
       "      <td>68.58</td>\n",
       "      <td>97</td>\n",
       "      <td>100</td>\n",
       "      <td>1.41</td>\n",
       "      <td>CD</td>\n",
       "      <td>1601257991</td>\n",
       "    </tr>\n",
       "    <tr>\n",
       "      <th>53</th>\n",
       "      <td>Vaini</td>\n",
       "      <td>-21.20</td>\n",
       "      <td>-175.20</td>\n",
       "      <td>78.80</td>\n",
       "      <td>74</td>\n",
       "      <td>20</td>\n",
       "      <td>9.17</td>\n",
       "      <td>TO</td>\n",
       "      <td>1601257992</td>\n",
       "    </tr>\n",
       "    <tr>\n",
       "      <th>55</th>\n",
       "      <td>Lakatoro</td>\n",
       "      <td>-16.10</td>\n",
       "      <td>167.42</td>\n",
       "      <td>84.20</td>\n",
       "      <td>70</td>\n",
       "      <td>40</td>\n",
       "      <td>3.36</td>\n",
       "      <td>VU</td>\n",
       "      <td>1601257993</td>\n",
       "    </tr>\n",
       "    <tr>\n",
       "      <th>58</th>\n",
       "      <td>Mount Gambier</td>\n",
       "      <td>-37.83</td>\n",
       "      <td>140.77</td>\n",
       "      <td>57.20</td>\n",
       "      <td>50</td>\n",
       "      <td>0</td>\n",
       "      <td>11.41</td>\n",
       "      <td>AU</td>\n",
       "      <td>1601257994</td>\n",
       "    </tr>\n",
       "    <tr>\n",
       "      <th>61</th>\n",
       "      <td>Quatre Cocos</td>\n",
       "      <td>-20.21</td>\n",
       "      <td>57.76</td>\n",
       "      <td>73.00</td>\n",
       "      <td>88</td>\n",
       "      <td>40</td>\n",
       "      <td>9.17</td>\n",
       "      <td>MU</td>\n",
       "      <td>1601257995</td>\n",
       "    </tr>\n",
       "    <tr>\n",
       "      <th>62</th>\n",
       "      <td>Antofagasta</td>\n",
       "      <td>-23.65</td>\n",
       "      <td>-70.40</td>\n",
       "      <td>57.20</td>\n",
       "      <td>76</td>\n",
       "      <td>90</td>\n",
       "      <td>9.17</td>\n",
       "      <td>CL</td>\n",
       "      <td>1601257721</td>\n",
       "    </tr>\n",
       "    <tr>\n",
       "      <th>65</th>\n",
       "      <td>Payo</td>\n",
       "      <td>-3.75</td>\n",
       "      <td>103.64</td>\n",
       "      <td>85.51</td>\n",
       "      <td>54</td>\n",
       "      <td>98</td>\n",
       "      <td>2.17</td>\n",
       "      <td>ID</td>\n",
       "      <td>1601257997</td>\n",
       "    </tr>\n",
       "    <tr>\n",
       "      <th>67</th>\n",
       "      <td>Isangel</td>\n",
       "      <td>-19.55</td>\n",
       "      <td>169.27</td>\n",
       "      <td>84.20</td>\n",
       "      <td>66</td>\n",
       "      <td>20</td>\n",
       "      <td>9.17</td>\n",
       "      <td>VU</td>\n",
       "      <td>1601257998</td>\n",
       "    </tr>\n",
       "    <tr>\n",
       "      <th>69</th>\n",
       "      <td>Kaitangata</td>\n",
       "      <td>-46.28</td>\n",
       "      <td>169.85</td>\n",
       "      <td>43.00</td>\n",
       "      <td>73</td>\n",
       "      <td>97</td>\n",
       "      <td>15.99</td>\n",
       "      <td>NZ</td>\n",
       "      <td>1601257999</td>\n",
       "    </tr>\n",
       "  </tbody>\n",
       "</table>\n",
       "</div>"
      ],
      "text/plain": [
       "             cities    lat    long  max_fahrenheit  humidity  cloudiness  \\\n",
       "3            Faanui -16.48 -151.75           78.28        79           5   \n",
       "4         Mahébourg -20.41   57.70           71.60        88          40   \n",
       "6            Castro -24.79  -50.01           65.68        79         100   \n",
       "8           Rikitea -23.12 -134.97           74.64        78           0   \n",
       "9            Atuona  -9.80 -139.03           78.26        74           4   \n",
       "11         Mineiros -17.57  -52.55           79.36        35           0   \n",
       "15         Souillac -20.52   57.52           71.60        88          40   \n",
       "16             Yura -16.25  -71.68           49.66        50           9   \n",
       "17            Bluff -46.60  168.33           41.00        75          95   \n",
       "18        Hithadhoo  -0.60   73.08           82.85        67         100   \n",
       "20          Senanga -16.12   23.27           68.94        25          34   \n",
       "21      Chake Chake  -5.25   39.77           74.77        91          22   \n",
       "22            Ancud -41.87  -73.82           46.99        90          79   \n",
       "25     Punta Arenas -53.15  -70.92           46.40        65          40   \n",
       "26          Ushuaia -54.80  -68.30           42.80        70          40   \n",
       "27  Bambous Virieux -20.34   57.76           73.00        88          40   \n",
       "31    Katima Mulilo -17.50   24.27           68.00        30          83   \n",
       "39        Busselton -33.65  115.33           63.00        82          69   \n",
       "41         Hermanus -34.42   19.23           37.99        93           0   \n",
       "42          Mataura -46.19  168.86           41.00        75          99   \n",
       "46        Oriximiná  -1.77  -55.87           81.45        63          24   \n",
       "47        Cape Town -33.93   18.42           42.01        86           0   \n",
       "48  Arraial do Cabo -22.97  -42.03           75.20        83           4   \n",
       "52            Lodja  -3.48   23.43           68.58        97         100   \n",
       "53            Vaini -21.20 -175.20           78.80        74          20   \n",
       "55         Lakatoro -16.10  167.42           84.20        70          40   \n",
       "58    Mount Gambier -37.83  140.77           57.20        50           0   \n",
       "61     Quatre Cocos -20.21   57.76           73.00        88          40   \n",
       "62      Antofagasta -23.65  -70.40           57.20        76          90   \n",
       "65             Payo  -3.75  103.64           85.51        54          98   \n",
       "67          Isangel -19.55  169.27           84.20        66          20   \n",
       "69       Kaitangata -46.28  169.85           43.00        73          97   \n",
       "\n",
       "    wind_speed country        date  \n",
       "3        14.61      PF  1601257968  \n",
       "4         9.17      MU  1601257969  \n",
       "6         5.61      BR  1601257692  \n",
       "8        11.10      PF  1601257966  \n",
       "9        14.47      PF  1601257971  \n",
       "11        4.34      BR  1601257972  \n",
       "15        9.17      MU  1601257974  \n",
       "16        0.78      PE  1601257974  \n",
       "17       15.01      NZ  1601257974  \n",
       "18        5.28      MV  1601257975  \n",
       "20        2.13      ZM  1601257976  \n",
       "21        5.17      TZ  1601257976  \n",
       "22        1.01      CL  1601257977  \n",
       "25       31.09      CL  1601257749  \n",
       "26       13.87      AR  1601257979  \n",
       "27        9.17      MU  1601257979  \n",
       "31        2.24      NA  1601257981  \n",
       "39        8.93      AU  1601257985  \n",
       "41        5.53      ZA  1601257985  \n",
       "42       15.01      NZ  1601257986  \n",
       "46        3.38      BR  1601257988  \n",
       "47        1.12      ZA  1601257930  \n",
       "48        9.17      BR  1601257989  \n",
       "52        1.41      CD  1601257991  \n",
       "53        9.17      TO  1601257992  \n",
       "55        3.36      VU  1601257993  \n",
       "58       11.41      AU  1601257994  \n",
       "61        9.17      MU  1601257995  \n",
       "62        9.17      CL  1601257721  \n",
       "65        2.17      ID  1601257997  \n",
       "67        9.17      VU  1601257998  \n",
       "69       15.99      NZ  1601257999  "
      ]
     },
     "execution_count": 14,
     "metadata": {},
     "output_type": "execute_result"
    }
   ],
   "source": [
    "north_hemisphere = weather_data_df.loc[weather_data_df['lat'] >= 0]\n",
    "south_hemisphere = weather_data_df.loc[weather_data_df['lat'] < 0]\n",
    "south_hemisphere"
   ]
  },
  {
   "cell_type": "code",
   "execution_count": 30,
   "metadata": {},
   "outputs": [
    {
     "data": {
      "text/plain": [
       "Text(0, 0.5, 'Temperature in Fahrenheit')"
      ]
     },
     "execution_count": 30,
     "metadata": {},
     "output_type": "execute_result"
    },
    {
     "data": {
      "image/png": "[encoded data removed]",
      "text/plain": [
       "<Figure size 432x288 with 1 Axes>"
      ]
     },
     "metadata": {
      "needs_background": "light"
     },
     "output_type": "display_data"
    }
   ],
   "source": [
    "#set the x_axis values to latitude\n",
    "x_values = north_hemisphere[\"lat\"]\n",
    "y_values = north_hemisphere[\"max_fahrenheit\"]\n",
    "\n",
    "(slope, intercept, rvalue, pvalue, stderr) = linregress(x_values, y_values)\n",
    "regress_values = x_values *slope +intercept\n",
    "line_eq = \"y = \" + str(round(slope,2)) + \"x + \" + str(round(intercept,2))\n",
    "\n",
    "\n",
    "#plot scatter graph \n",
    "plt.scatter(x_values, y_values, marker = \"o\", facecolors=\"blue\", edgecolors = \"black\")\n",
    "plt.plot(x_values, regress_values, \"r-\")\n",
    "plt.annotate(line_eq,(0,50),fontsize=15,color=\"black\")\n",
    "#label graph\n",
    "plt.title(\"Northern Hemisphere - Max Temp vs. Latitude Linear Regression\")\n",
    "plt.xlabel(\"Latitude in degrees\")\n",
    "plt.ylabel(\"Temperature in Fahrenheit\")"
   ]
  },
  {
   "cell_type": "markdown",
   "metadata": {},
   "source": [
    "####  Southern Hemisphere - Max Temp vs. Latitude Linear Regression"
   ]
  },
  {
   "cell_type": "code",
   "execution_count": 49,
   "metadata": {},
   "outputs": [
    {
     "data": {
      "text/plain": [
       "Text(0, 0.5, 'Temperature in Fahrenheit')"
      ]
     },
     "execution_count": 49,
     "metadata": {},
     "output_type": "execute_result"
    },
    {
     "data": {
      "image/png": "[encoded data removed]",
      "text/plain": [
       "<Figure size 432x288 with 1 Axes>"
      ]
     },
     "metadata": {
      "needs_background": "light"
     },
     "output_type": "display_data"
    }
   ],
   "source": [
    "#set the x_axis values to latitude\n",
    "x_values = south_hemisphere[\"lat\"]\n",
    "y_values = south_hemisphere[\"max_fahrenheit\"]\n",
    "\n",
    "(slope, intercept, rvalue, pvalue, stderr) = linregress(x_values, y_values)\n",
    "regress_values = x_values *slope +intercept\n",
    "line_eq = \"y = \" + str(round(slope,2)) + \"x + \" + str(round(intercept,2))\n",
    "\n",
    "\n",
    "#plot scatter graph \n",
    "plt.scatter(x_values, y_values, marker = \"o\", facecolors=\"blue\", edgecolors = \"black\")\n",
    "plt.plot(x_values, regress_values, \"r-\")\n",
    "plt.annotate(line_eq,(-30,50),fontsize=15,color=\"black\")\n",
    "#label graph\n",
    "plt.title(\"Southern Hemisphere - Max Temp vs. Latitude Linear Regression\")\n",
    "plt.xlabel(\"Latitude in degrees\")\n",
    "plt.ylabel(\"Temperature in Fahrenheit\")\n"
   ]
  },
  {
   "cell_type": "markdown",
   "metadata": {},
   "source": [
    "####  Northern Hemisphere - Humidity (%) vs. Latitude Linear Regression"
   ]
  },
  {
   "cell_type": "code",
   "execution_count": 33,
   "metadata": {},
   "outputs": [
    {
     "data": {
      "text/plain": [
       "Text(0, 0.5, 'Percentage of Humidity')"
      ]
     },
     "execution_count": 33,
     "metadata": {},
     "output_type": "execute_result"
    },
    {
     "data": {
      "image/png": "[encoded data removed]",
      "text/plain": [
       "<Figure size 432x288 with 1 Axes>"
      ]
     },
     "metadata": {
      "needs_background": "light"
     },
     "output_type": "display_data"
    }
   ],
   "source": [
    "#set the x_axis values to latitude and y_axis to comparing units\n",
    "x_values = north_hemisphere[\"lat\"]\n",
    "y_values = north_hemisphere[\"humidity\"]\n",
    "\n",
    "(slope, intercept, rvalue, pvalue, stderr) = linregress(x_values, y_values)\n",
    "regress_values = x_values *slope +intercept\n",
    "line_eq = \"y = \" + str(round(slope,2)) + \"x + \" + str(round(intercept,2))\n",
    "\n",
    "\n",
    "#plot scatter graph \n",
    "plt.scatter(x_values, y_values, marker = \"o\", facecolors=\"blue\", edgecolors = \"black\")\n",
    "plt.plot(x_values, regress_values, \"r-\")\n",
    "plt.annotate(line_eq,(0,30),fontsize=15,color=\"black\")\n",
    "#label graph\n",
    "plt.title(\"Northern Hemisphere - Humidity (%) vs. Latitude Linear Regression\")\n",
    "plt.xlabel(\"Latitude in degrees\")\n",
    "plt.ylabel(\"Percentage of Humidity\")"
   ]
  },
  {
   "cell_type": "markdown",
   "metadata": {},
   "source": [
    "####  Southern Hemisphere - Humidity (%) vs. Latitude Linear Regression"
   ]
  },
  {
   "cell_type": "code",
   "execution_count": 48,
   "metadata": {},
   "outputs": [
    {
     "data": {
      "text/plain": [
       "Text(0, 0.5, 'Percentage of Humidity')"
      ]
     },
     "execution_count": 48,
     "metadata": {},
     "output_type": "execute_result"
    },
    {
     "data": {
      "image/png": "[encoded data removed]",
      "text/plain": [
       "<Figure size 432x288 with 1 Axes>"
      ]
     },
     "metadata": {
      "needs_background": "light"
     },
     "output_type": "display_data"
    }
   ],
   "source": [
    "#set the x_axis values to latitude and y_axis to comparing units\n",
    "x_values = south_hemisphere[\"lat\"]\n",
    "y_values = south_hemisphere[\"humidity\"]\n",
    "\n",
    "(slope, intercept, rvalue, pvalue, stderr) = linregress(x_values, y_values)\n",
    "regress_values = x_values *slope +intercept\n",
    "line_eq = \"y = \" + str(round(slope,2)) + \"x + \" + str(round(intercept,2))\n",
    "\n",
    "\n",
    "#plot scatter graph \n",
    "plt.scatter(x_values, y_values, marker = \"o\", facecolors=\"blue\", edgecolors = \"black\")\n",
    "plt.plot(x_values, regress_values, \"r-\")\n",
    "plt.annotate(line_eq,(-40,60),fontsize=15,color=\"black\")\n",
    "#label graph\n",
    "plt.title(\"Southern Hemisphere - Humidity (%) vs. Latitude Linear Regression\")\n",
    "plt.xlabel(\"Latitude in degrees\")\n",
    "plt.ylabel(\"Percentage of Humidity\")"
   ]
  },
  {
   "cell_type": "markdown",
   "metadata": {},
   "source": [
    "####  Northern Hemisphere - Cloudiness (%) vs. Latitude Linear Regression"
   ]
  },
  {
   "cell_type": "code",
   "execution_count": 36,
   "metadata": {},
   "outputs": [
    {
     "data": {
      "text/plain": [
       "Text(0, 0.5, 'Percentage of Cloudiness')"
      ]
     },
     "execution_count": 36,
     "metadata": {},
     "output_type": "execute_result"
    },
    {
     "data": {
      "image/png": "[encoded data removed]",
      "text/plain": [
       "<Figure size 432x288 with 1 Axes>"
      ]
     },
     "metadata": {
      "needs_background": "light"
     },
     "output_type": "display_data"
    }
   ],
   "source": [
    "#set the x_axis values to latitude and y_axis to comparing units\n",
    "x_values = north_hemisphere[\"lat\"]\n",
    "y_values = north_hemisphere[\"cloudiness\"]\n",
    "\n",
    "(slope, intercept, rvalue, pvalue, stderr) = linregress(x_values, y_values)\n",
    "regress_values = x_values *slope +intercept\n",
    "line_eq = \"y = \" + str(round(slope,2)) + \"x + \" + str(round(intercept,2))\n",
    "\n",
    "\n",
    "#plot scatter graph \n",
    "plt.scatter(x_values, y_values, marker = \"o\", facecolors=\"blue\", edgecolors = \"black\")\n",
    "plt.plot(x_values, regress_values, \"r-\")\n",
    "plt.annotate(line_eq,(0,55),fontsize=15,color=\"black\")\n",
    "#label graph\n",
    "plt.title(\"Northern Hemisphere - Cloudiness (%) vs. Latitude Linear Regressio\")\n",
    "plt.xlabel(\"Latitude in degrees\")\n",
    "plt.ylabel(\"Percentage of Cloudiness\")"
   ]
  },
  {
   "cell_type": "markdown",
   "metadata": {},
   "source": [
    "####  Southern Hemisphere - Cloudiness (%) vs. Latitude Linear Regression"
   ]
  },
  {
   "cell_type": "code",
   "execution_count": 43,
   "metadata": {},
   "outputs": [
    {
     "data": {
      "text/plain": [
       "Text(0, 0.5, 'Percentage of Cloudiness')"
      ]
     },
     "execution_count": 43,
     "metadata": {},
     "output_type": "execute_result"
    },
    {
     "data": {
      "image/png": "[encoded data removed]",
      "text/plain": [
       "<Figure size 432x288 with 1 Axes>"
      ]
     },
     "metadata": {
      "needs_background": "light"
     },
     "output_type": "display_data"
    }
   ],
   "source": [
    "#set the x_axis values to latitude and y_axis to comparing units\n",
    "x_values = south_hemisphere[\"lat\"]\n",
    "y_values = south_hemisphere[\"cloudiness\"]\n",
    "\n",
    "(slope, intercept, rvalue, pvalue, stderr) = linregress(x_values, y_values)\n",
    "regress_values = x_values *slope +intercept\n",
    "line_eq = \"y = \" + str(round(slope,2)) + \"x + \" + str(round(intercept,2))\n",
    "\n",
    "\n",
    "#plot scatter graph \n",
    "plt.scatter(x_values, y_values, marker = \"o\", facecolors=\"blue\", edgecolors = \"black\")\n",
    "plt.plot(x_values, regress_values, \"r-\")\n",
    "plt.annotate(line_eq,(-30,50),fontsize=15,color=\"black\")\n",
    "#label graph\n",
    "plt.title(\"Southern Hemisphere - Cloudiness (%) vs. Latitude Linear Regression\")\n",
    "plt.xlabel(\"Latitude in degrees\")\n",
    "plt.ylabel(\"Percentage of Cloudiness\")"
   ]
  },
  {
   "cell_type": "markdown",
   "metadata": {},
   "source": [
    "####  Northern Hemisphere - Wind Speed (mph) vs. Latitude Linear Regression"
   ]
  },
  {
   "cell_type": "code",
   "execution_count": 39,
   "metadata": {},
   "outputs": [
    {
     "data": {
      "text/plain": [
       "Text(0, 0.5, 'Wind Speed (mph)')"
      ]
     },
     "execution_count": 39,
     "metadata": {},
     "output_type": "execute_result"
    },
    {
     "data": {
      "image/png": "[encoded data removed]",
      "text/plain": [
       "<Figure size 432x288 with 1 Axes>"
      ]
     },
     "metadata": {
      "needs_background": "light"
     },
     "output_type": "display_data"
    }
   ],
   "source": [
    "#set the x_axis values to latitude and y_axis to comparing units\n",
    "x_values = weather_data_df[\"lat\"]\n",
    "y_values = weather_data_df[\"wind_speed\"]\n",
    "\n",
    "(slope, intercept, rvalue, pvalue, stderr) = linregress(x_values, y_values)\n",
    "regress_values = x_values *slope +intercept\n",
    "line_eq = \"y = \" + str(round(slope,2)) + \"x + \" + str(round(intercept,2))\n",
    "\n",
    "\n",
    "#plot scatter graph \n",
    "plt.scatter(x_values, y_values, marker = \"o\", facecolors=\"blue\", edgecolors = \"black\")\n",
    "plt.plot(x_values, regress_values, \"r-\")\n",
    "plt.annotate(line_eq,(0,20),fontsize=15,color=\"black\")\n",
    "#label graph\n",
    "plt.title(\"Northern Hemisphere - Wind Speed (mph) vs. Latitude Linear Regression\")\n",
    "plt.xlabel(\"Latitude in degrees\")\n",
    "plt.ylabel(\"Wind Speed (mph)\")"
   ]
  },
  {
   "cell_type": "markdown",
   "metadata": {},
   "source": [
    "####  Southern Hemisphere - Wind Speed (mph) vs. Latitude Linear Regression"
   ]
  },
  {
   "cell_type": "code",
   "execution_count": 42,
   "metadata": {},
   "outputs": [
    {
     "data": {
      "text/plain": [
       "Text(0, 0.5, 'Wind Speed (mph)')"
      ]
     },
     "execution_count": 42,
     "metadata": {},
     "output_type": "execute_result"
    },
    {
     "data": {
      "image/png": "[encoded data removed]",
      "text/plain": [
       "<Figure size 432x288 with 1 Axes>"
      ]
     },
     "metadata": {
      "needs_background": "light"
     },
     "output_type": "display_data"
    }
   ],
   "source": [
    "#set the x_axis values to latitude and y_axis to comparing units\n",
    "x_values = south_hemisphere[\"lat\"]\n",
    "y_values = south_hemisphere[\"wind_speed\"]\n",
    "\n",
    "(slope, intercept, rvalue, pvalue, stderr) = linregress(x_values, y_values)\n",
    "regress_values = x_values *slope +intercept\n",
    "line_eq = \"y = \" + str(round(slope,2)) + \"x + \" + str(round(intercept,2))\n",
    "\n",
    "\n",
    "#plot scatter graph \n",
    "plt.scatter(x_values, y_values, marker = \"o\", facecolors=\"blue\", edgecolors = \"black\")\n",
    "plt.plot(x_values, regress_values, \"r-\")\n",
    "plt.annotate(line_eq,(-30,20),fontsize=15,color=\"black\")\n",
    "#label graph\n",
    "plt.title(\"Southern Hemisphere - Wind Speed (mph) vs. Latitude Linear Regression¶\")\n",
    "plt.xlabel(\"Latitude in degrees\")\n",
    "plt.ylabel(\"Wind Speed (mph)\")"
   ]
  },
  {
   "cell_type": "code",
   "execution_count": null,
   "metadata": {},
   "outputs": [],
   "source": []
  }
 ],
 "metadata": {
  "anaconda-cloud": {},
  "kernel_info": {
   "name": "python3"
  },
  "kernelspec": {
   "display_name": "Python 3",
   "language": "python",
   "name": "python3"
  },
  "language_info": {
   "codemirror_mode": {
    "name": "ipython",
    "version": 3
   },
   "file_extension": ".py",
   "mimetype": "text/x-python",
   "name": "python",
   "nbconvert_exporter": "python",
   "pygments_lexer": "ipython3",
   "version": "3.8.3"
  },
  "latex_envs": {
   "LaTeX_envs_menu_present": true,
   "autoclose": false,
   "autocomplete": true,
   "bibliofile": "biblio.bib",
   "cite_by": "apalike",
   "current_citInitial": 1,
   "eqLabelWithNumbers": true,
   "eqNumInitial": 1,
   "hotkeys": {
    "equation": "Ctrl-E",
    "itemize": "Ctrl-I"
   },
   "labels_anchors": false,
   "latex_user_defs": false,
   "report_style_numbering": false,
   "user_envs_cfg": false
  },
  "nteract": {
   "version": "0.12.3"
  }
 },
 "nbformat": 4,
 "nbformat_minor": 2
}

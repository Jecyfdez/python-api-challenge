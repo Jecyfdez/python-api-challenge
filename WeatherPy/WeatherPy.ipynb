{
 "cells": [
  {
   "cell_type": "markdown",
   "metadata": {},
   "source": [
    "# WeatherPy\n",
    "----\n",
    "\n",
    "#### Note\n",
    "* Instructions have been included for each segment. You do not have to follow them exactly, but they are included to help you think through the steps."
   ]
  },
  {
   "cell_type": "code",
   "execution_count": 106,
   "metadata": {},
   "outputs": [],
   "source": [
    "# Dependencies and Setup\n",
    "import matplotlib.pyplot as plt\n",
    "import pandas as pd\n",
    "import numpy as np\n",
    "from scipy.stats import linregress\n",
    "\n",
    "import requests\n",
    "from api_keys import weather_api_key\n",
    "import json\n",
    "\n",
    "# import os\n",
    "# import csv\n",
    "\n",
    "from citipy import citipy\n",
    "\n",
    "# Range of latitudes and longitudes\n",
    "latitude_range = (-90, 90)\n",
    "longitude_range = (-180, 180)"
   ]
  },
  {
   "cell_type": "code",
   "execution_count": 107,
   "metadata": {},
   "outputs": [],
   "source": [
    "#create a list for latitude and longitude\n",
    "lat_points =[]\n",
    "long_points =[]\n",
    "\n",
    "#find array of latitude coordinates\n",
    "random_lat = np.random.uniform(low=-90.00, high=90.00, size=100)\n",
    "#find array of longitude coordinates\n",
    "random_long = np.random.uniform(low=-180.00, high=180.00, size=100)\n",
    "#create coordinate combinations\n",
    "coordinates = zip(random_lat,random_long)"
   ]
  },
  {
   "cell_type": "code",
   "execution_count": 108,
   "metadata": {},
   "outputs": [
    {
     "name": "stdout",
     "output_type": "stream",
     "text": [
      "['hilo', 'vaini', 'puerto ayora', 'barentsburg', 'moerai', 'kutum', 'kodiak', 'hermanus', 'california city', 'quatre cocos', 'huron', 'parabel', 'taltal', 'busselton', 'shakhty', 'castro', 'de land', 'chimbote', 'sayyan', 'provideniya', 'tabiauea', 'barrow', 'deputatskiy', 'new norfolk', 'qaanaaq', 'qasigiannguit', 'koygorodok', 'ushuaia', 'kaitangata', 'buchanan', 'avarua', 'mataura', 'katha', 'nikolskoye', 'nanyang', 'cape town', 'albany', 'te anau', 'bredasdorp', 'kapaa', 'port alfred', 'jamestown', 'punta arenas', 'mar del plata', 'murchison', 'rovinj', 'marzuq', 'clyde river', 'san patricio', 'severo-kurilsk', 'tuy hoa', 'chuy', 'victoria', 'constitucion', 'butaritari', 'svetlogorsk', 'yellowknife', 'antigonish', 'dingle', 'illoqqortoormiut', 'buala', 'wulanhaote', 'souillac', 'taolanaro', 'lebu', 'aitape', 'port lincoln', 'hithadhoo', 'hobart', 'belushya guba', 'severnoye', 'kruisfontein', 'siddipet', 'khatanga', 'tuktoyaktuk', 'khao wong', 'porto novo', 'naryan-mar']\n"
     ]
    }
   ],
   "source": [
    "#create a list for cities to live\n",
    "unique_cities = []\n",
    "random_cities = []\n",
    "#Loop through coordinates to create a list of nearest cities\n",
    "for coordinates in coordinates:\n",
    "    city = citipy.nearest_city(coordinates[0], coordinates[1]).city_name\n",
    "    \n",
    "    #remove the space in between cities with more than 2 names\n",
    "    #city = city.replace(\" \", \"20%\")\n",
    "    \n",
    "    #remove potential repeating cities\n",
    "    if city not in unique_cities:\n",
    "        unique_cities.append(city)\n",
    "    \n",
    "print(unique_cities)"
   ]
  },
  {
   "cell_type": "markdown",
   "metadata": {},
   "source": [
    "## Generate Cities List"
   ]
  },
  {
   "cell_type": "code",
   "execution_count": 109,
   "metadata": {},
   "outputs": [
    {
     "data": {
      "text/plain": [
       "78"
      ]
     },
     "execution_count": 109,
     "metadata": {},
     "output_type": "execute_result"
    }
   ],
   "source": [
    "len(unique_cities)"
   ]
  },
  {
   "cell_type": "markdown",
   "metadata": {},
   "source": [
    "### Perform API Calls\n",
    "* Perform a weather check on each city using a series of successive API calls.\n",
    "* Include a print log of each city as it'sbeing processed (with the city number and city name).\n"
   ]
  },
  {
   "cell_type": "code",
   "execution_count": 110,
   "metadata": {},
   "outputs": [
    {
     "name": "stdout",
     "output_type": "stream",
     "text": [
      "Begin Data Retrieval\n",
      "----------------------------------\n",
      "Processing Record 1 | hilo\n",
      "Processing Record 2 | vaini\n",
      "Processing Record 3 | puerto ayora\n",
      "Processing Record 4 | barentsburg\n",
      "Processing Record 5 | moerai\n",
      "Processing Record 6 | kutum\n",
      "Processing Record 7 | kodiak\n",
      "Processing Record 8 | hermanus\n",
      "Processing Record 9 | california city\n",
      "Processing Record 10 | quatre cocos\n",
      "Processing Record 11 | huron\n",
      "Processing Record 12 | parabel\n",
      "Processing Record 13 | taltal\n",
      "Processing Record 14 | busselton\n",
      "Processing Record 15 | shakhty\n",
      "Processing Record 16 | castro\n",
      "Processing Record 17 | de land\n",
      "Processing Record 18 | chimbote\n",
      "Processing Record 19 | sayyan\n",
      "Processing Record 20 | provideniya\n",
      "Processing Record 21 | tabiauea\n",
      "Processing Record 22 | barrow\n",
      "Processing Record 23 | deputatskiy\n",
      "Processing Record 24 | new norfolk\n",
      "Processing Record 25 | qaanaaq\n",
      "Processing Record 26 | qasigiannguit\n",
      "Processing Record 27 | koygorodok\n",
      "Processing Record 28 | ushuaia\n",
      "Processing Record 29 | kaitangata\n",
      "Processing Record 30 | buchanan\n",
      "Processing Record 31 | avarua\n",
      "Processing Record 32 | mataura\n",
      "Processing Record 33 | katha\n",
      "Processing Record 34 | nikolskoye\n",
      "Processing Record 35 | nanyang\n",
      "Processing Record 36 | cape town\n",
      "Processing Record 37 | albany\n",
      "Processing Record 38 | te anau\n",
      "Processing Record 39 | bredasdorp\n",
      "Processing Record 40 | kapaa\n",
      "Processing Record 41 | port alfred\n",
      "Processing Record 42 | jamestown\n",
      "Processing Record 43 | punta arenas\n",
      "Processing Record 44 | mar del plata\n",
      "Processing Record 45 | murchison\n",
      "Processing Record 46 | rovinj\n",
      "Processing Record 47 | marzuq\n",
      "Processing Record 48 | clyde river\n",
      "Processing Record 49 | san patricio\n",
      "Processing Record 50 | severo-kurilsk\n",
      "Processing Record 51 | tuy hoa\n",
      "Processing Record 52 | chuy\n",
      "Processing Record 53 | victoria\n",
      "Processing Record 54 | constitucion\n",
      "Processing Record 55 | butaritari\n",
      "Processing Record 56 | svetlogorsk\n",
      "Processing Record 57 | yellowknife\n",
      "Processing Record 58 | antigonish\n",
      "Processing Record 59 | dingle\n",
      "Processing Record 60 | illoqqortoormiut\n",
      "Processing Record 61 | buala\n",
      "Processing Record 62 | wulanhaote\n",
      "Processing Record 63 | souillac\n",
      "Processing Record 64 | taolanaro\n",
      "Processing Record 65 | lebu\n",
      "Processing Record 66 | aitape\n",
      "Processing Record 67 | port lincoln\n",
      "Processing Record 68 | hithadhoo\n",
      "Processing Record 69 | hobart\n",
      "Processing Record 70 | belushya guba\n",
      "Processing Record 71 | severnoye\n",
      "Processing Record 72 | kruisfontein\n",
      "Processing Record 73 | siddipet\n",
      "Processing Record 74 | khatanga\n",
      "Processing Record 75 | tuktoyaktuk\n",
      "Processing Record 76 | khao wong\n",
      "Processing Record 77 | porto novo\n",
      "Processing Record 78 | naryan-mar\n",
      "----------------------------------\n",
      "Data Retrieval Complete\n",
      "----------------------------------\n"
     ]
    }
   ],
   "source": [
    "city_name = []\n",
    "latitude = []\n",
    "longitude =[]\n",
    "temperature_f = []\n",
    "humidity = []\n",
    "cloudiness = []\n",
    "wind_speed = []\n",
    "country = []\n",
    "date = []\n",
    "count = 1\n",
    "base_url = \"https://api.openweathermap.org/data/2.5/weather?\"\n",
    "\n",
    "# Log file print statement\n",
    "print(f\"Begin Data Retrieval\")\n",
    "print(f\"----------------------------------\")\n",
    "\n",
    "for city in unique_cities:\n",
    "    try:\n",
    "        query_url = f'q={city}&appid={weather_api_key}&units=imperial'\n",
    "        #api call for individual cities\n",
    "        url = base_url + query_url\n",
    "        weather_data = requests.get(url).json()\n",
    "        city_name.append(weather_data['name'])\n",
    "        latitude.append(weather_data['coord']['lat'])\n",
    "        longitude.append(weather_data['coord']['lon'])\n",
    "        temperature_f.append(weather_data['main']['temp_max'])\n",
    "        humidity.append(weather_data['main']['humidity'])\n",
    "        cloudiness.append(weather_data['clouds']['all'])\n",
    "        wind_speed.append(weather_data['wind']['speed'])\n",
    "        country.append(weather_data['sys']['country'])\n",
    "        date.append(weather_data['dt'])\n",
    "    except KeyError: 'name'\n",
    "        \n",
    "\n",
    "    print\n",
    "    print(f\"Processing Record {count} | {city}\")\n",
    "    count += 1\n",
    "    \n",
    "print(f\"----------------------------------\")    \n",
    "print(f\"Data Retrieval Complete\")\n",
    "print(f\"----------------------------------\")\n",
    "# print(city_name)\n",
    "# print(latitude)\n",
    "# print(longitude)\n",
    "# print(temperature_f)\n",
    "# print(humidity)\n",
    "# print(cloudiness)\n",
    "# print(wind_speed)\n"
   ]
  },
  {
   "cell_type": "markdown",
   "metadata": {},
   "source": [
    "### Convert Raw Data to DataFrame\n",
    "* Export the city data into a .csv.\n",
    "* Display the DataFrame"
   ]
  },
  {
   "cell_type": "code",
   "execution_count": 111,
   "metadata": {},
   "outputs": [
    {
     "data": {
      "text/html": [
       "<div>\n",
       "<style scoped>\n",
       "    .dataframe tbody tr th:only-of-type {\n",
       "        vertical-align: middle;\n",
       "    }\n",
       "\n",
       "    .dataframe tbody tr th {\n",
       "        vertical-align: top;\n",
       "    }\n",
       "\n",
       "    .dataframe thead th {\n",
       "        text-align: right;\n",
       "    }\n",
       "</style>\n",
       "<table border=\"1\" class=\"dataframe\">\n",
       "  <thead>\n",
       "    <tr style=\"text-align: right;\">\n",
       "      <th></th>\n",
       "      <th>cities</th>\n",
       "      <th>lat</th>\n",
       "      <th>long</th>\n",
       "      <th>max_fahrenheit</th>\n",
       "      <th>humidity</th>\n",
       "      <th>cloudiness</th>\n",
       "      <th>wind_speed</th>\n",
       "      <th>country</th>\n",
       "      <th>date</th>\n",
       "    </tr>\n",
       "  </thead>\n",
       "  <tbody>\n",
       "    <tr>\n",
       "      <th>0</th>\n",
       "      <td>Hilo</td>\n",
       "      <td>19.73</td>\n",
       "      <td>-155.09</td>\n",
       "      <td>86.00</td>\n",
       "      <td>51</td>\n",
       "      <td>1</td>\n",
       "      <td>8.05</td>\n",
       "      <td>US</td>\n",
       "      <td>1601257207</td>\n",
       "    </tr>\n",
       "    <tr>\n",
       "      <th>1</th>\n",
       "      <td>Vaini</td>\n",
       "      <td>-21.20</td>\n",
       "      <td>-175.20</td>\n",
       "      <td>78.80</td>\n",
       "      <td>74</td>\n",
       "      <td>20</td>\n",
       "      <td>9.17</td>\n",
       "      <td>TO</td>\n",
       "      <td>1601257261</td>\n",
       "    </tr>\n",
       "    <tr>\n",
       "      <th>2</th>\n",
       "      <td>Puerto Ayora</td>\n",
       "      <td>-0.74</td>\n",
       "      <td>-90.35</td>\n",
       "      <td>69.01</td>\n",
       "      <td>86</td>\n",
       "      <td>97</td>\n",
       "      <td>8.99</td>\n",
       "      <td>EC</td>\n",
       "      <td>1601257262</td>\n",
       "    </tr>\n",
       "    <tr>\n",
       "      <th>3</th>\n",
       "      <td>Moerai</td>\n",
       "      <td>-22.43</td>\n",
       "      <td>-151.33</td>\n",
       "      <td>71.56</td>\n",
       "      <td>72</td>\n",
       "      <td>64</td>\n",
       "      <td>16.62</td>\n",
       "      <td>PF</td>\n",
       "      <td>1601257262</td>\n",
       "    </tr>\n",
       "    <tr>\n",
       "      <th>4</th>\n",
       "      <td>Kutum</td>\n",
       "      <td>14.20</td>\n",
       "      <td>24.67</td>\n",
       "      <td>75.18</td>\n",
       "      <td>65</td>\n",
       "      <td>100</td>\n",
       "      <td>4.29</td>\n",
       "      <td>SD</td>\n",
       "      <td>1601257263</td>\n",
       "    </tr>\n",
       "    <tr>\n",
       "      <th>...</th>\n",
       "      <td>...</td>\n",
       "      <td>...</td>\n",
       "      <td>...</td>\n",
       "      <td>...</td>\n",
       "      <td>...</td>\n",
       "      <td>...</td>\n",
       "      <td>...</td>\n",
       "      <td>...</td>\n",
       "      <td>...</td>\n",
       "    </tr>\n",
       "    <tr>\n",
       "      <th>66</th>\n",
       "      <td>Khatanga</td>\n",
       "      <td>71.97</td>\n",
       "      <td>102.50</td>\n",
       "      <td>31.57</td>\n",
       "      <td>94</td>\n",
       "      <td>100</td>\n",
       "      <td>10.98</td>\n",
       "      <td>RU</td>\n",
       "      <td>1601257296</td>\n",
       "    </tr>\n",
       "    <tr>\n",
       "      <th>67</th>\n",
       "      <td>Tuktoyaktuk</td>\n",
       "      <td>69.45</td>\n",
       "      <td>-133.04</td>\n",
       "      <td>37.40</td>\n",
       "      <td>93</td>\n",
       "      <td>90</td>\n",
       "      <td>4.70</td>\n",
       "      <td>CA</td>\n",
       "      <td>1601257296</td>\n",
       "    </tr>\n",
       "    <tr>\n",
       "      <th>68</th>\n",
       "      <td>Khao Wong</td>\n",
       "      <td>16.70</td>\n",
       "      <td>104.09</td>\n",
       "      <td>82.40</td>\n",
       "      <td>83</td>\n",
       "      <td>75</td>\n",
       "      <td>5.82</td>\n",
       "      <td>TH</td>\n",
       "      <td>1601257296</td>\n",
       "    </tr>\n",
       "    <tr>\n",
       "      <th>69</th>\n",
       "      <td>Porto-Novo</td>\n",
       "      <td>6.50</td>\n",
       "      <td>2.60</td>\n",
       "      <td>80.60</td>\n",
       "      <td>83</td>\n",
       "      <td>40</td>\n",
       "      <td>9.17</td>\n",
       "      <td>BJ</td>\n",
       "      <td>1601257018</td>\n",
       "    </tr>\n",
       "    <tr>\n",
       "      <th>70</th>\n",
       "      <td>Naryan-Mar</td>\n",
       "      <td>67.67</td>\n",
       "      <td>53.09</td>\n",
       "      <td>35.76</td>\n",
       "      <td>85</td>\n",
       "      <td>79</td>\n",
       "      <td>3.67</td>\n",
       "      <td>RU</td>\n",
       "      <td>1601257297</td>\n",
       "    </tr>\n",
       "  </tbody>\n",
       "</table>\n",
       "<p>71 rows × 9 columns</p>\n",
       "</div>"
      ],
      "text/plain": [
       "          cities    lat    long  max_fahrenheit  humidity  cloudiness  \\\n",
       "0           Hilo  19.73 -155.09           86.00        51           1   \n",
       "1          Vaini -21.20 -175.20           78.80        74          20   \n",
       "2   Puerto Ayora  -0.74  -90.35           69.01        86          97   \n",
       "3         Moerai -22.43 -151.33           71.56        72          64   \n",
       "4          Kutum  14.20   24.67           75.18        65         100   \n",
       "..           ...    ...     ...             ...       ...         ...   \n",
       "66      Khatanga  71.97  102.50           31.57        94         100   \n",
       "67   Tuktoyaktuk  69.45 -133.04           37.40        93          90   \n",
       "68     Khao Wong  16.70  104.09           82.40        83          75   \n",
       "69    Porto-Novo   6.50    2.60           80.60        83          40   \n",
       "70    Naryan-Mar  67.67   53.09           35.76        85          79   \n",
       "\n",
       "    wind_speed country        date  \n",
       "0         8.05      US  1601257207  \n",
       "1         9.17      TO  1601257261  \n",
       "2         8.99      EC  1601257262  \n",
       "3        16.62      PF  1601257262  \n",
       "4         4.29      SD  1601257263  \n",
       "..         ...     ...         ...  \n",
       "66       10.98      RU  1601257296  \n",
       "67        4.70      CA  1601257296  \n",
       "68        5.82      TH  1601257296  \n",
       "69        9.17      BJ  1601257018  \n",
       "70        3.67      RU  1601257297  \n",
       "\n",
       "[71 rows x 9 columns]"
      ]
     },
     "execution_count": 111,
     "metadata": {},
     "output_type": "execute_result"
    }
   ],
   "source": [
    "#create a df with all unique cities\n",
    "data_set = {'cities': city_name,\n",
    "'lat' : latitude,\n",
    "'long' : longitude,\n",
    "'max_fahrenheit' : temperature_f,\n",
    "'humidity' : humidity,\n",
    "'cloudiness' : cloudiness,\n",
    "'wind_speed' : wind_speed,\n",
    "'country' : country,\n",
    "'date' : date}\n",
    "weather_data_df = pd.DataFrame(data_set)\n",
    "weather_data_df\n",
    "\n",
    "#export file to csv"
   ]
  },
  {
   "cell_type": "markdown",
   "metadata": {},
   "source": [
    "## Inspect the data and remove the cities where the humidity > 100%.\n",
    "----\n",
    "Skip this step if there are no cities that have humidity > 100%. "
   ]
  },
  {
   "cell_type": "code",
   "execution_count": 112,
   "metadata": {},
   "outputs": [
    {
     "data": {
      "text/plain": [
       "cities            0\n",
       "lat               0\n",
       "long              0\n",
       "max_fahrenheit    0\n",
       "humidity          0\n",
       "cloudiness        0\n",
       "wind_speed        0\n",
       "country           0\n",
       "date              0\n",
       "dtype: int64"
      ]
     },
     "execution_count": 112,
     "metadata": {},
     "output_type": "execute_result"
    }
   ],
   "source": [
    "#check to see if there are any with over 100% humidity\n",
    "humidity_under_hundred = weather_data_df.loc[weather_data_df['humidity'] > 100]\n",
    "humidity_under_hundred.count()\n",
    "#there is none"
   ]
  },
  {
   "cell_type": "code",
   "execution_count": 113,
   "metadata": {},
   "outputs": [],
   "source": [
    "#  Get the indices of cities that have humidity over 100%.\n"
   ]
  },
  {
   "cell_type": "code",
   "execution_count": 114,
   "metadata": {},
   "outputs": [],
   "source": [
    "# Make a new DataFrame equal to the city data to drop all humidity outliers by index.\n",
    "# Passing \"inplace=False\" will make a copy of the city_data DataFrame, which we call \"clean_city_data\".\n"
   ]
  },
  {
   "cell_type": "markdown",
   "metadata": {},
   "source": [
    "## Plotting the Data\n",
    "* Use proper labeling of the plots using plot titles (including date of analysis) and axes labels.\n",
    "* Save the plotted figures as .pngs."
   ]
  },
  {
   "cell_type": "markdown",
   "metadata": {},
   "source": [
    "## Latitude vs. Temperature Plot"
   ]
  },
  {
   "cell_type": "code",
   "execution_count": 115,
   "metadata": {
    "scrolled": true
   },
   "outputs": [
    {
     "data": {
      "text/plain": [
       "Text(0, 0.5, 'Temperature in Fahrenheit')"
      ]
     },
     "execution_count": 115,
     "metadata": {},
     "output_type": "execute_result"
    },
    {
     "data": {
      "image/png": "[encoded data removed]",
      "text/plain": [
       "<Figure size 432x288 with 1 Axes>"
      ]
     },
     "metadata": {
      "needs_background": "light"
     },
     "output_type": "display_data"
    }
   ],
   "source": [
    "#set the x_axis values to latitude\n",
    "x_values = weather_data_df[\"lat\"]\n",
    "y_values = weather_data_df[\"max_fahrenheit\"]\n",
    "\n",
    "(slope, intercept, rvalue, pvalue, stderr) = linregress(x_values, y_values)\n",
    "regress_values = x_values *slope +intercept\n",
    "line_eq = \"y = \" + str(round(slope,2)) + \"x + \" + str(round(intercept,2))\n",
    "\n",
    "\n",
    "#plot scatter graph \n",
    "plt.scatter(x_values, y_values, marker = \"o\", facecolors=\"blue\", edgecolors = \"black\")\n",
    "plt.plot(x_values, regress_values, \"r-\")\n",
    "#label graph\n",
    "plt.title(\"Latitude vs. Temperature Plot\")\n",
    "plt.xlabel(\"Latitude in degrees\")\n",
    "plt.ylabel(\"Temperature in Fahrenheit\")\n"
   ]
  },
  {
   "cell_type": "markdown",
   "metadata": {},
   "source": [
    "## Latitude vs. Humidity Plot"
   ]
  },
  {
   "cell_type": "code",
   "execution_count": 124,
   "metadata": {},
   "outputs": [
    {
     "data": {
      "text/plain": [
       "Text(0, 0.5, 'Percentage of Humidity')"
      ]
     },
     "execution_count": 124,
     "metadata": {},
     "output_type": "execute_result"
    },
    {
     "data": {
      "image/png": "[encoded data removed]",
      "text/plain": [
       "<Figure size 432x288 with 1 Axes>"
      ]
     },
     "metadata": {
      "needs_background": "light"
     },
     "output_type": "display_data"
    }
   ],
   "source": [
    "#set the x_axis values to latitude and y_axis to comparing units\n",
    "x_values = weather_data_df[\"lat\"]\n",
    "y_values = weather_data_df[\"humidity\"]\n",
    "\n",
    "(slope, intercept, rvalue, pvalue, stderr) = linregress(x_values, y_values)\n",
    "regress_values = x_values *slope +intercept\n",
    "line_eq = \"y = \" + str(round(slope,2)) + \"x + \" + str(round(intercept,2))\n",
    "\n",
    "\n",
    "#plot scatter graph \n",
    "plt.scatter(x_values, y_values, marker = \"o\", facecolors=\"blue\", edgecolors = \"black\")\n",
    "plt.plot(x_values, regress_values, \"r-\")\n",
    "#label graph\n",
    "plt.title(\"Latitude vs. Humidity Plot\")\n",
    "plt.xlabel(\"Latitude in degrees\")\n",
    "plt.ylabel(\"Percentage of Humidity\")"
   ]
  },
  {
   "cell_type": "markdown",
   "metadata": {},
   "source": [
    "## Latitude vs. Cloudiness Plot"
   ]
  },
  {
   "cell_type": "code",
   "execution_count": 117,
   "metadata": {},
   "outputs": [
    {
     "data": {
      "text/plain": [
       "Text(0, 0.5, 'Percentage of Cloudiness')"
      ]
     },
     "execution_count": 117,
     "metadata": {},
     "output_type": "execute_result"
    },
    {
     "data": {
      "image/png": "[encoded data removed]",
      "text/plain": [
       "<Figure size 432x288 with 1 Axes>"
      ]
     },
     "metadata": {
      "needs_background": "light"
     },
     "output_type": "display_data"
    }
   ],
   "source": [
    "#set the x_axis values to latitude and y_axis to comparing units\n",
    "x_values = weather_data_df[\"lat\"]\n",
    "y_values = weather_data_df[\"cloudiness\"]\n",
    "\n",
    "(slope, intercept, rvalue, pvalue, stderr) = linregress(x_values, y_values)\n",
    "regress_values = x_values *slope +intercept\n",
    "line_eq = \"y = \" + str(round(slope,2)) + \"x + \" + str(round(intercept,2))\n",
    "\n",
    "\n",
    "#plot scatter graph \n",
    "plt.scatter(x_values, y_values, marker = \"o\", facecolors=\"blue\", edgecolors = \"black\")\n",
    "plt.plot(x_values, regress_values, \"r-\")\n",
    "#label graph\n",
    "plt.title(\"Latitude vs. Cloudiness Plot\")\n",
    "plt.xlabel(\"Latitude in degrees\")\n",
    "plt.ylabel(\"Percentage of Cloudiness\")"
   ]
  },
  {
   "cell_type": "markdown",
   "metadata": {},
   "source": [
    "## Latitude vs. Wind Speed Plot"
   ]
  },
  {
   "cell_type": "code",
   "execution_count": 118,
   "metadata": {},
   "outputs": [
    {
     "data": {
      "text/plain": [
       "Text(0, 0.5, 'Wind Speed (mph)')"
      ]
     },
     "execution_count": 118,
     "metadata": {},
     "output_type": "execute_result"
    },
    {
     "data": {
      "image/png": "[encoded data removed]",
      "text/plain": [
       "<Figure size 432x288 with 1 Axes>"
      ]
     },
     "metadata": {
      "needs_background": "light"
     },
     "output_type": "display_data"
    }
   ],
   "source": [
    "#set the x_axis values to latitude and y_axis to comparing units\n",
    "x_values = weather_data_df[\"lat\"]\n",
    "y_values = weather_data_df[\"wind_speed\"]\n",
    "\n",
    "(slope, intercept, rvalue, pvalue, stderr) = linregress(x_values, y_values)\n",
    "regress_values = x_values *slope +intercept\n",
    "line_eq = \"y = \" + str(round(slope,2)) + \"x + \" + str(round(intercept,2))\n",
    "\n",
    "\n",
    "#plot scatter graph \n",
    "plt.scatter(x_values, y_values, marker = \"o\", facecolors=\"blue\", edgecolors = \"black\")\n",
    "plt.plot(x_values, regress_values, \"r-\")\n",
    "#label graph\n",
    "plt.title(\"Latitude vs. Wind Speed Plot\")\n",
    "plt.xlabel(\"Latitude in degrees\")\n",
    "plt.ylabel(\"Wind Speed (mph)\")"
   ]
  },
  {
   "cell_type": "markdown",
   "metadata": {},
   "source": [
    "####  Northern Hemisphere - Max Temp vs. Latitude Linear Regression"
   ]
  },
  {
   "cell_type": "markdown",
   "metadata": {},
   "source": [
    "Your second requirement is to run linear regression on each relationship, only this time separating them into Northern Hemisphere (greater than or equal to 0 degrees latitude) and Southern Hemisphere (less than 0 degrees latitude):"
   ]
  },
  {
   "cell_type": "code",
   "execution_count": 127,
   "metadata": {},
   "outputs": [
    {
     "data": {
      "text/html": [
       "<div>\n",
       "<style scoped>\n",
       "    .dataframe tbody tr th:only-of-type {\n",
       "        vertical-align: middle;\n",
       "    }\n",
       "\n",
       "    .dataframe tbody tr th {\n",
       "        vertical-align: top;\n",
       "    }\n",
       "\n",
       "    .dataframe thead th {\n",
       "        text-align: right;\n",
       "    }\n",
       "</style>\n",
       "<table border=\"1\" class=\"dataframe\">\n",
       "  <thead>\n",
       "    <tr style=\"text-align: right;\">\n",
       "      <th></th>\n",
       "      <th>cities</th>\n",
       "      <th>lat</th>\n",
       "      <th>long</th>\n",
       "      <th>max_fahrenheit</th>\n",
       "      <th>humidity</th>\n",
       "      <th>cloudiness</th>\n",
       "      <th>wind_speed</th>\n",
       "      <th>country</th>\n",
       "      <th>date</th>\n",
       "    </tr>\n",
       "  </thead>\n",
       "  <tbody>\n",
       "    <tr>\n",
       "      <th>1</th>\n",
       "      <td>Vaini</td>\n",
       "      <td>-21.20</td>\n",
       "      <td>-175.20</td>\n",
       "      <td>78.80</td>\n",
       "      <td>74</td>\n",
       "      <td>20</td>\n",
       "      <td>9.17</td>\n",
       "      <td>TO</td>\n",
       "      <td>1601257261</td>\n",
       "    </tr>\n",
       "    <tr>\n",
       "      <th>2</th>\n",
       "      <td>Puerto Ayora</td>\n",
       "      <td>-0.74</td>\n",
       "      <td>-90.35</td>\n",
       "      <td>69.01</td>\n",
       "      <td>86</td>\n",
       "      <td>97</td>\n",
       "      <td>8.99</td>\n",
       "      <td>EC</td>\n",
       "      <td>1601257262</td>\n",
       "    </tr>\n",
       "    <tr>\n",
       "      <th>3</th>\n",
       "      <td>Moerai</td>\n",
       "      <td>-22.43</td>\n",
       "      <td>-151.33</td>\n",
       "      <td>71.56</td>\n",
       "      <td>72</td>\n",
       "      <td>64</td>\n",
       "      <td>16.62</td>\n",
       "      <td>PF</td>\n",
       "      <td>1601257262</td>\n",
       "    </tr>\n",
       "    <tr>\n",
       "      <th>6</th>\n",
       "      <td>Hermanus</td>\n",
       "      <td>-34.42</td>\n",
       "      <td>19.23</td>\n",
       "      <td>39.00</td>\n",
       "      <td>94</td>\n",
       "      <td>0</td>\n",
       "      <td>5.73</td>\n",
       "      <td>ZA</td>\n",
       "      <td>1601257264</td>\n",
       "    </tr>\n",
       "    <tr>\n",
       "      <th>8</th>\n",
       "      <td>Quatre Cocos</td>\n",
       "      <td>-20.21</td>\n",
       "      <td>57.76</td>\n",
       "      <td>72.00</td>\n",
       "      <td>88</td>\n",
       "      <td>40</td>\n",
       "      <td>9.17</td>\n",
       "      <td>MU</td>\n",
       "      <td>1601257265</td>\n",
       "    </tr>\n",
       "    <tr>\n",
       "      <th>11</th>\n",
       "      <td>Taltal</td>\n",
       "      <td>-25.40</td>\n",
       "      <td>-70.48</td>\n",
       "      <td>54.88</td>\n",
       "      <td>73</td>\n",
       "      <td>5</td>\n",
       "      <td>1.23</td>\n",
       "      <td>CL</td>\n",
       "      <td>1601257267</td>\n",
       "    </tr>\n",
       "    <tr>\n",
       "      <th>12</th>\n",
       "      <td>Busselton</td>\n",
       "      <td>-33.65</td>\n",
       "      <td>115.33</td>\n",
       "      <td>62.01</td>\n",
       "      <td>83</td>\n",
       "      <td>99</td>\n",
       "      <td>9.62</td>\n",
       "      <td>AU</td>\n",
       "      <td>1601257267</td>\n",
       "    </tr>\n",
       "    <tr>\n",
       "      <th>14</th>\n",
       "      <td>Castro</td>\n",
       "      <td>-24.79</td>\n",
       "      <td>-50.01</td>\n",
       "      <td>65.68</td>\n",
       "      <td>79</td>\n",
       "      <td>100</td>\n",
       "      <td>5.61</td>\n",
       "      <td>BR</td>\n",
       "      <td>1601257269</td>\n",
       "    </tr>\n",
       "    <tr>\n",
       "      <th>16</th>\n",
       "      <td>Chimbote</td>\n",
       "      <td>-9.09</td>\n",
       "      <td>-78.58</td>\n",
       "      <td>60.46</td>\n",
       "      <td>88</td>\n",
       "      <td>21</td>\n",
       "      <td>7.61</td>\n",
       "      <td>PE</td>\n",
       "      <td>1601257270</td>\n",
       "    </tr>\n",
       "    <tr>\n",
       "      <th>21</th>\n",
       "      <td>New Norfolk</td>\n",
       "      <td>-42.78</td>\n",
       "      <td>147.06</td>\n",
       "      <td>60.01</td>\n",
       "      <td>54</td>\n",
       "      <td>84</td>\n",
       "      <td>3.00</td>\n",
       "      <td>AU</td>\n",
       "      <td>1601257272</td>\n",
       "    </tr>\n",
       "    <tr>\n",
       "      <th>25</th>\n",
       "      <td>Ushuaia</td>\n",
       "      <td>-54.80</td>\n",
       "      <td>-68.30</td>\n",
       "      <td>42.80</td>\n",
       "      <td>70</td>\n",
       "      <td>40</td>\n",
       "      <td>13.87</td>\n",
       "      <td>AR</td>\n",
       "      <td>1601257274</td>\n",
       "    </tr>\n",
       "    <tr>\n",
       "      <th>26</th>\n",
       "      <td>Kaitangata</td>\n",
       "      <td>-46.28</td>\n",
       "      <td>169.85</td>\n",
       "      <td>41.00</td>\n",
       "      <td>76</td>\n",
       "      <td>97</td>\n",
       "      <td>7.00</td>\n",
       "      <td>NZ</td>\n",
       "      <td>1601257275</td>\n",
       "    </tr>\n",
       "    <tr>\n",
       "      <th>28</th>\n",
       "      <td>Avarua</td>\n",
       "      <td>-21.21</td>\n",
       "      <td>-159.78</td>\n",
       "      <td>77.00</td>\n",
       "      <td>69</td>\n",
       "      <td>0</td>\n",
       "      <td>13.87</td>\n",
       "      <td>CK</td>\n",
       "      <td>1601257276</td>\n",
       "    </tr>\n",
       "    <tr>\n",
       "      <th>29</th>\n",
       "      <td>Mataura</td>\n",
       "      <td>-46.19</td>\n",
       "      <td>168.86</td>\n",
       "      <td>41.00</td>\n",
       "      <td>77</td>\n",
       "      <td>99</td>\n",
       "      <td>15.99</td>\n",
       "      <td>NZ</td>\n",
       "      <td>1601257276</td>\n",
       "    </tr>\n",
       "    <tr>\n",
       "      <th>32</th>\n",
       "      <td>Cape Town</td>\n",
       "      <td>-33.93</td>\n",
       "      <td>18.42</td>\n",
       "      <td>41.00</td>\n",
       "      <td>86</td>\n",
       "      <td>0</td>\n",
       "      <td>1.12</td>\n",
       "      <td>ZA</td>\n",
       "      <td>1601257134</td>\n",
       "    </tr>\n",
       "    <tr>\n",
       "      <th>34</th>\n",
       "      <td>Te Anau</td>\n",
       "      <td>-45.42</td>\n",
       "      <td>167.72</td>\n",
       "      <td>38.52</td>\n",
       "      <td>78</td>\n",
       "      <td>35</td>\n",
       "      <td>9.19</td>\n",
       "      <td>NZ</td>\n",
       "      <td>1601257279</td>\n",
       "    </tr>\n",
       "    <tr>\n",
       "      <th>35</th>\n",
       "      <td>Bredasdorp</td>\n",
       "      <td>-34.53</td>\n",
       "      <td>20.04</td>\n",
       "      <td>48.20</td>\n",
       "      <td>81</td>\n",
       "      <td>0</td>\n",
       "      <td>3.36</td>\n",
       "      <td>ZA</td>\n",
       "      <td>1601257280</td>\n",
       "    </tr>\n",
       "    <tr>\n",
       "      <th>37</th>\n",
       "      <td>Port Alfred</td>\n",
       "      <td>-33.59</td>\n",
       "      <td>26.89</td>\n",
       "      <td>51.84</td>\n",
       "      <td>71</td>\n",
       "      <td>5</td>\n",
       "      <td>7.74</td>\n",
       "      <td>ZA</td>\n",
       "      <td>1601257281</td>\n",
       "    </tr>\n",
       "    <tr>\n",
       "      <th>39</th>\n",
       "      <td>Punta Arenas</td>\n",
       "      <td>-53.15</td>\n",
       "      <td>-70.92</td>\n",
       "      <td>46.40</td>\n",
       "      <td>65</td>\n",
       "      <td>40</td>\n",
       "      <td>31.09</td>\n",
       "      <td>CL</td>\n",
       "      <td>1601257023</td>\n",
       "    </tr>\n",
       "    <tr>\n",
       "      <th>40</th>\n",
       "      <td>Mar del Plata</td>\n",
       "      <td>-38.00</td>\n",
       "      <td>-57.56</td>\n",
       "      <td>54.00</td>\n",
       "      <td>100</td>\n",
       "      <td>90</td>\n",
       "      <td>13.87</td>\n",
       "      <td>AR</td>\n",
       "      <td>1601257161</td>\n",
       "    </tr>\n",
       "    <tr>\n",
       "      <th>41</th>\n",
       "      <td>Murchison</td>\n",
       "      <td>-41.80</td>\n",
       "      <td>172.33</td>\n",
       "      <td>45.05</td>\n",
       "      <td>84</td>\n",
       "      <td>100</td>\n",
       "      <td>14.99</td>\n",
       "      <td>NZ</td>\n",
       "      <td>1601257282</td>\n",
       "    </tr>\n",
       "    <tr>\n",
       "      <th>48</th>\n",
       "      <td>Chui</td>\n",
       "      <td>-33.70</td>\n",
       "      <td>-53.46</td>\n",
       "      <td>56.12</td>\n",
       "      <td>90</td>\n",
       "      <td>0</td>\n",
       "      <td>12.37</td>\n",
       "      <td>UY</td>\n",
       "      <td>1601257286</td>\n",
       "    </tr>\n",
       "    <tr>\n",
       "      <th>50</th>\n",
       "      <td>Constitución</td>\n",
       "      <td>-35.33</td>\n",
       "      <td>-72.42</td>\n",
       "      <td>51.15</td>\n",
       "      <td>82</td>\n",
       "      <td>0</td>\n",
       "      <td>9.40</td>\n",
       "      <td>CL</td>\n",
       "      <td>1601257119</td>\n",
       "    </tr>\n",
       "    <tr>\n",
       "      <th>56</th>\n",
       "      <td>Buala</td>\n",
       "      <td>-8.14</td>\n",
       "      <td>159.59</td>\n",
       "      <td>84.27</td>\n",
       "      <td>70</td>\n",
       "      <td>81</td>\n",
       "      <td>6.46</td>\n",
       "      <td>SB</td>\n",
       "      <td>1601257290</td>\n",
       "    </tr>\n",
       "    <tr>\n",
       "      <th>57</th>\n",
       "      <td>Souillac</td>\n",
       "      <td>-20.52</td>\n",
       "      <td>57.52</td>\n",
       "      <td>71.60</td>\n",
       "      <td>88</td>\n",
       "      <td>40</td>\n",
       "      <td>9.17</td>\n",
       "      <td>MU</td>\n",
       "      <td>1601257291</td>\n",
       "    </tr>\n",
       "    <tr>\n",
       "      <th>58</th>\n",
       "      <td>Lebu</td>\n",
       "      <td>-37.62</td>\n",
       "      <td>-73.65</td>\n",
       "      <td>48.67</td>\n",
       "      <td>88</td>\n",
       "      <td>40</td>\n",
       "      <td>12.17</td>\n",
       "      <td>CL</td>\n",
       "      <td>1601257292</td>\n",
       "    </tr>\n",
       "    <tr>\n",
       "      <th>59</th>\n",
       "      <td>Aitape</td>\n",
       "      <td>-3.14</td>\n",
       "      <td>142.35</td>\n",
       "      <td>84.72</td>\n",
       "      <td>72</td>\n",
       "      <td>9</td>\n",
       "      <td>4.25</td>\n",
       "      <td>PG</td>\n",
       "      <td>1601257292</td>\n",
       "    </tr>\n",
       "    <tr>\n",
       "      <th>60</th>\n",
       "      <td>Port Lincoln</td>\n",
       "      <td>-34.73</td>\n",
       "      <td>135.87</td>\n",
       "      <td>61.83</td>\n",
       "      <td>57</td>\n",
       "      <td>18</td>\n",
       "      <td>24.70</td>\n",
       "      <td>AU</td>\n",
       "      <td>1601257064</td>\n",
       "    </tr>\n",
       "    <tr>\n",
       "      <th>61</th>\n",
       "      <td>Hithadhoo</td>\n",
       "      <td>-0.60</td>\n",
       "      <td>73.08</td>\n",
       "      <td>82.85</td>\n",
       "      <td>67</td>\n",
       "      <td>100</td>\n",
       "      <td>5.28</td>\n",
       "      <td>MV</td>\n",
       "      <td>1601257293</td>\n",
       "    </tr>\n",
       "    <tr>\n",
       "      <th>62</th>\n",
       "      <td>Hobart</td>\n",
       "      <td>-42.88</td>\n",
       "      <td>147.33</td>\n",
       "      <td>60.01</td>\n",
       "      <td>50</td>\n",
       "      <td>40</td>\n",
       "      <td>12.75</td>\n",
       "      <td>AU</td>\n",
       "      <td>1601257293</td>\n",
       "    </tr>\n",
       "    <tr>\n",
       "      <th>64</th>\n",
       "      <td>Kruisfontein</td>\n",
       "      <td>-34.00</td>\n",
       "      <td>24.73</td>\n",
       "      <td>44.76</td>\n",
       "      <td>80</td>\n",
       "      <td>1</td>\n",
       "      <td>5.91</td>\n",
       "      <td>ZA</td>\n",
       "      <td>1601257295</td>\n",
       "    </tr>\n",
       "  </tbody>\n",
       "</table>\n",
       "</div>"
      ],
      "text/plain": [
       "           cities    lat    long  max_fahrenheit  humidity  cloudiness  \\\n",
       "1           Vaini -21.20 -175.20           78.80        74          20   \n",
       "2    Puerto Ayora  -0.74  -90.35           69.01        86          97   \n",
       "3          Moerai -22.43 -151.33           71.56        72          64   \n",
       "6        Hermanus -34.42   19.23           39.00        94           0   \n",
       "8    Quatre Cocos -20.21   57.76           72.00        88          40   \n",
       "11         Taltal -25.40  -70.48           54.88        73           5   \n",
       "12      Busselton -33.65  115.33           62.01        83          99   \n",
       "14         Castro -24.79  -50.01           65.68        79         100   \n",
       "16       Chimbote  -9.09  -78.58           60.46        88          21   \n",
       "21    New Norfolk -42.78  147.06           60.01        54          84   \n",
       "25        Ushuaia -54.80  -68.30           42.80        70          40   \n",
       "26     Kaitangata -46.28  169.85           41.00        76          97   \n",
       "28         Avarua -21.21 -159.78           77.00        69           0   \n",
       "29        Mataura -46.19  168.86           41.00        77          99   \n",
       "32      Cape Town -33.93   18.42           41.00        86           0   \n",
       "34        Te Anau -45.42  167.72           38.52        78          35   \n",
       "35     Bredasdorp -34.53   20.04           48.20        81           0   \n",
       "37    Port Alfred -33.59   26.89           51.84        71           5   \n",
       "39   Punta Arenas -53.15  -70.92           46.40        65          40   \n",
       "40  Mar del Plata -38.00  -57.56           54.00       100          90   \n",
       "41      Murchison -41.80  172.33           45.05        84         100   \n",
       "48           Chui -33.70  -53.46           56.12        90           0   \n",
       "50   Constitución -35.33  -72.42           51.15        82           0   \n",
       "56          Buala  -8.14  159.59           84.27        70          81   \n",
       "57       Souillac -20.52   57.52           71.60        88          40   \n",
       "58           Lebu -37.62  -73.65           48.67        88          40   \n",
       "59         Aitape  -3.14  142.35           84.72        72           9   \n",
       "60   Port Lincoln -34.73  135.87           61.83        57          18   \n",
       "61      Hithadhoo  -0.60   73.08           82.85        67         100   \n",
       "62         Hobart -42.88  147.33           60.01        50          40   \n",
       "64   Kruisfontein -34.00   24.73           44.76        80           1   \n",
       "\n",
       "    wind_speed country        date  \n",
       "1         9.17      TO  1601257261  \n",
       "2         8.99      EC  1601257262  \n",
       "3        16.62      PF  1601257262  \n",
       "6         5.73      ZA  1601257264  \n",
       "8         9.17      MU  1601257265  \n",
       "11        1.23      CL  1601257267  \n",
       "12        9.62      AU  1601257267  \n",
       "14        5.61      BR  1601257269  \n",
       "16        7.61      PE  1601257270  \n",
       "21        3.00      AU  1601257272  \n",
       "25       13.87      AR  1601257274  \n",
       "26        7.00      NZ  1601257275  \n",
       "28       13.87      CK  1601257276  \n",
       "29       15.99      NZ  1601257276  \n",
       "32        1.12      ZA  1601257134  \n",
       "34        9.19      NZ  1601257279  \n",
       "35        3.36      ZA  1601257280  \n",
       "37        7.74      ZA  1601257281  \n",
       "39       31.09      CL  1601257023  \n",
       "40       13.87      AR  1601257161  \n",
       "41       14.99      NZ  1601257282  \n",
       "48       12.37      UY  1601257286  \n",
       "50        9.40      CL  1601257119  \n",
       "56        6.46      SB  1601257290  \n",
       "57        9.17      MU  1601257291  \n",
       "58       12.17      CL  1601257292  \n",
       "59        4.25      PG  1601257292  \n",
       "60       24.70      AU  1601257064  \n",
       "61        5.28      MV  1601257293  \n",
       "62       12.75      AU  1601257293  \n",
       "64        5.91      ZA  1601257295  "
      ]
     },
     "execution_count": 127,
     "metadata": {},
     "output_type": "execute_result"
    }
   ],
   "source": [
    "north_hemisphere = weather_data_df.loc[weather_data_df['lat'] >= 0]\n",
    "south_hemisphere = weather_data_df.loc[weather_data_df['lat'] < 0]\n",
    "south_hemisphere"
   ]
  },
  {
   "cell_type": "code",
   "execution_count": 128,
   "metadata": {},
   "outputs": [
    {
     "data": {
      "text/plain": [
       "Text(0, 0.5, 'Temperature in Fahrenheit')"
      ]
     },
     "execution_count": 128,
     "metadata": {},
     "output_type": "execute_result"
    },
    {
     "data": {
      "image/png": "[encoded data removed]",
      "text/plain": [
       "<Figure size 432x288 with 1 Axes>"
      ]
     },
     "metadata": {
      "needs_background": "light"
     },
     "output_type": "display_data"
    }
   ],
   "source": [
    "#set the x_axis values to latitude\n",
    "x_values = north_hemisphere[\"lat\"]\n",
    "y_values = north_hemisphere[\"max_fahrenheit\"]\n",
    "\n",
    "(slope, intercept, rvalue, pvalue, stderr) = linregress(x_values, y_values)\n",
    "regress_values = x_values *slope +intercept\n",
    "line_eq = \"y = \" + str(round(slope,2)) + \"x + \" + str(round(intercept,2))\n",
    "\n",
    "\n",
    "#plot scatter graph \n",
    "plt.scatter(x_values, y_values, marker = \"o\", facecolors=\"blue\", edgecolors = \"black\")\n",
    "plt.plot(x_values, regress_values, \"r-\")\n",
    "#label graph\n",
    "plt.title(\"Northern Hemisphere - Max Temp vs. Latitude Linear Regression\")\n",
    "plt.xlabel(\"Latitude in degrees\")\n",
    "plt.ylabel(\"Temperature in Fahrenheit\")"
   ]
  },
  {
   "cell_type": "markdown",
   "metadata": {},
   "source": [
    "####  Southern Hemisphere - Max Temp vs. Latitude Linear Regression"
   ]
  },
  {
   "cell_type": "code",
   "execution_count": 129,
   "metadata": {},
   "outputs": [
    {
     "data": {
      "text/plain": [
       "Text(0, 0.5, 'Temperature in Fahrenheit')"
      ]
     },
     "execution_count": 129,
     "metadata": {},
     "output_type": "execute_result"
    },
    {
     "data": {
      "image/png": "[encoded data removed]",
      "text/plain": [
       "<Figure size 432x288 with 1 Axes>"
      ]
     },
     "metadata": {
      "needs_background": "light"
     },
     "output_type": "display_data"
    }
   ],
   "source": [
    "#set the x_axis values to latitude\n",
    "x_values = south_hemisphere[\"lat\"]\n",
    "y_values = south_hemisphere[\"max_fahrenheit\"]\n",
    "\n",
    "(slope, intercept, rvalue, pvalue, stderr) = linregress(x_values, y_values)\n",
    "regress_values = x_values *slope +intercept\n",
    "line_eq = \"y = \" + str(round(slope,2)) + \"x + \" + str(round(intercept,2))\n",
    "\n",
    "\n",
    "#plot scatter graph \n",
    "plt.scatter(x_values, y_values, marker = \"o\", facecolors=\"blue\", edgecolors = \"black\")\n",
    "plt.plot(x_values, regress_values, \"r-\")\n",
    "#label graph\n",
    "plt.title(\"Southern Hemisphere - Max Temp vs. Latitude Linear Regression\")\n",
    "plt.xlabel(\"Latitude in degrees\")\n",
    "plt.ylabel(\"Temperature in Fahrenheit\")\n"
   ]
  },
  {
   "cell_type": "markdown",
   "metadata": {},
   "source": [
    "####  Northern Hemisphere - Humidity (%) vs. Latitude Linear Regression"
   ]
  },
  {
   "cell_type": "code",
   "execution_count": 130,
   "metadata": {},
   "outputs": [
    {
     "data": {
      "text/plain": [
       "Text(0, 0.5, 'Percentage of Humidity')"
      ]
     },
     "execution_count": 130,
     "metadata": {},
     "output_type": "execute_result"
    },
    {
     "data": {
      "image/png": "[encoded data removed]",
      "text/plain": [
       "<Figure size 432x288 with 1 Axes>"
      ]
     },
     "metadata": {
      "needs_background": "light"
     },
     "output_type": "display_data"
    }
   ],
   "source": [
    "#set the x_axis values to latitude and y_axis to comparing units\n",
    "x_values = north_hemisphere[\"lat\"]\n",
    "y_values = north_hemisphere[\"humidity\"]\n",
    "\n",
    "(slope, intercept, rvalue, pvalue, stderr) = linregress(x_values, y_values)\n",
    "regress_values = x_values *slope +intercept\n",
    "line_eq = \"y = \" + str(round(slope,2)) + \"x + \" + str(round(intercept,2))\n",
    "\n",
    "\n",
    "#plot scatter graph \n",
    "plt.scatter(x_values, y_values, marker = \"o\", facecolors=\"blue\", edgecolors = \"black\")\n",
    "plt.plot(x_values, regress_values, \"r-\")\n",
    "#label graph\n",
    "plt.title(\"Northern Hemisphere - Humidity (%) vs. Latitude Linear Regression\")\n",
    "plt.xlabel(\"Latitude in degrees\")\n",
    "plt.ylabel(\"Percentage of Humidity\")"
   ]
  },
  {
   "cell_type": "markdown",
   "metadata": {},
   "source": [
    "####  Southern Hemisphere - Humidity (%) vs. Latitude Linear Regression"
   ]
  },
  {
   "cell_type": "code",
   "execution_count": 131,
   "metadata": {},
   "outputs": [
    {
     "data": {
      "text/plain": [
       "Text(0, 0.5, 'Percentage of Humidity')"
      ]
     },
     "execution_count": 131,
     "metadata": {},
     "output_type": "execute_result"
    },
    {
     "data": {
      "image/png": "[encoded data removed]",
      "text/plain": [
       "<Figure size 432x288 with 1 Axes>"
      ]
     },
     "metadata": {
      "needs_background": "light"
     },
     "output_type": "display_data"
    }
   ],
   "source": [
    "#set the x_axis values to latitude and y_axis to comparing units\n",
    "x_values = south_hemisphere[\"lat\"]\n",
    "y_values = south_hemisphere[\"humidity\"]\n",
    "\n",
    "(slope, intercept, rvalue, pvalue, stderr) = linregress(x_values, y_values)\n",
    "regress_values = x_values *slope +intercept\n",
    "line_eq = \"y = \" + str(round(slope,2)) + \"x + \" + str(round(intercept,2))\n",
    "\n",
    "\n",
    "#plot scatter graph \n",
    "plt.scatter(x_values, y_values, marker = \"o\", facecolors=\"blue\", edgecolors = \"black\")\n",
    "plt.plot(x_values, regress_values, \"r-\")\n",
    "#label graph\n",
    "plt.title(\"Southern Hemisphere - Humidity (%) vs. Latitude Linear Regression\")\n",
    "plt.xlabel(\"Latitude in degrees\")\n",
    "plt.ylabel(\"Percentage of Humidity\")"
   ]
  },
  {
   "cell_type": "markdown",
   "metadata": {},
   "source": [
    "####  Northern Hemisphere - Cloudiness (%) vs. Latitude Linear Regression"
   ]
  },
  {
   "cell_type": "code",
   "execution_count": null,
   "metadata": {},
   "outputs": [],
   "source": [
    "#set the x_axis values to latitude and y_axis to comparing units\n",
    "x_values = north_hemisphere[\"lat\"]\n",
    "y_values = north_hemisphere[\"cloudiness\"]\n",
    "\n",
    "(slope, intercept, rvalue, pvalue, stderr) = linregress(x_values, y_values)\n",
    "regress_values = x_values *slope +intercept\n",
    "line_eq = \"y = \" + str(round(slope,2)) + \"x + \" + str(round(intercept,2))\n",
    "\n",
    "\n",
    "#plot scatter graph \n",
    "plt.scatter(x_values, y_values, marker = \"o\", facecolors=\"blue\", edgecolors = \"black\")\n",
    "plt.plot(x_values, regress_values, \"r-\")\n",
    "#label graph\n",
    "plt.title(\"Northern Hemisphere - Cloudiness (%) vs. Latitude Linear Regressio\")\n",
    "plt.xlabel(\"Latitude in degrees\")\n",
    "plt.ylabel(\"Percentage of Cloudiness\")"
   ]
  },
  {
   "cell_type": "markdown",
   "metadata": {},
   "source": [
    "####  Southern Hemisphere - Cloudiness (%) vs. Latitude Linear Regression"
   ]
  },
  {
   "cell_type": "code",
   "execution_count": null,
   "metadata": {},
   "outputs": [],
   "source": [
    "#set the x_axis values to latitude and y_axis to comparing units\n",
    "x_values = south_hemisphere[\"lat\"]\n",
    "y_values = south_hemisphere[\"cloudiness\"]\n",
    "\n",
    "(slope, intercept, rvalue, pvalue, stderr) = linregress(x_values, y_values)\n",
    "regress_values = x_values *slope +intercept\n",
    "line_eq = \"y = \" + str(round(slope,2)) + \"x + \" + str(round(intercept,2))\n",
    "\n",
    "\n",
    "#plot scatter graph \n",
    "plt.scatter(x_values, y_values, marker = \"o\", facecolors=\"blue\", edgecolors = \"black\")\n",
    "plt.plot(x_values, regress_values, \"r-\")\n",
    "#label graph\n",
    "plt.title(\"Southern Hemisphere - Cloudiness (%) vs. Latitude Linear Regression\")\n",
    "plt.xlabel(\"Latitude in degrees\")\n",
    "plt.ylabel(\"Percentage of Cloudiness\")"
   ]
  },
  {
   "cell_type": "markdown",
   "metadata": {},
   "source": [
    "####  Northern Hemisphere - Wind Speed (mph) vs. Latitude Linear Regression"
   ]
  },
  {
   "cell_type": "code",
   "execution_count": null,
   "metadata": {},
   "outputs": [],
   "source": [
    "#set the x_axis values to latitude and y_axis to comparing units\n",
    "x_values = weather_data_df[\"lat\"]\n",
    "y_values = weather_data_df[\"wind_speed\"]\n",
    "\n",
    "(slope, intercept, rvalue, pvalue, stderr) = linregress(x_values, y_values)\n",
    "regress_values = x_values *slope +intercept\n",
    "line_eq = \"y = \" + str(round(slope,2)) + \"x + \" + str(round(intercept,2))\n",
    "\n",
    "\n",
    "#plot scatter graph \n",
    "plt.scatter(x_values, y_values, marker = \"o\", facecolors=\"blue\", edgecolors = \"black\")\n",
    "plt.plot(x_values, regress_values, \"r-\")\n",
    "#label graph\n",
    "plt.title(\"Latitude vs. Wind Speed Plot\")\n",
    "plt.xlabel(\"Latitude in degrees\")\n",
    "plt.ylabel(\"Wind Speed (mph)\")"
   ]
  },
  {
   "cell_type": "markdown",
   "metadata": {},
   "source": [
    "####  Southern Hemisphere - Wind Speed (mph) vs. Latitude Linear Regression"
   ]
  },
  {
   "cell_type": "code",
   "execution_count": null,
   "metadata": {},
   "outputs": [],
   "source": [
    "#set the x_axis values to latitude and y_axis to comparing units\n",
    "x_values = south_hemisphere[\"lat\"]\n",
    "y_values = south_hemisphere[\"wind_speed\"]\n",
    "\n",
    "(slope, intercept, rvalue, pvalue, stderr) = linregress(x_values, y_values)\n",
    "regress_values = x_values *slope +intercept\n",
    "line_eq = \"y = \" + str(round(slope,2)) + \"x + \" + str(round(intercept,2))\n",
    "\n",
    "\n",
    "#plot scatter graph \n",
    "plt.scatter(x_values, y_values, marker = \"o\", facecolors=\"blue\", edgecolors = \"black\")\n",
    "plt.plot(x_values, regress_values, \"r-\")\n",
    "#label graph\n",
    "plt.title(\"Southern Hemisphere - Wind Speed (mph) vs. Latitude Linear Regression¶\")\n",
    "plt.xlabel(\"Latitude in degrees\")\n",
    "plt.ylabel(\"Wind Speed (mph)\")"
   ]
  },
  {
   "cell_type": "code",
   "execution_count": null,
   "metadata": {},
   "outputs": [],
   "source": []
  }
 ],
 "metadata": {
  "anaconda-cloud": {},
  "kernel_info": {
   "name": "python3"
  },
  "kernelspec": {
   "display_name": "Python 3",
   "language": "python",
   "name": "python3"
  },
  "language_info": {
   "codemirror_mode": {
    "name": "ipython",
    "version": 3
   },
   "file_extension": ".py",
   "mimetype": "text/x-python",
   "name": "python",
   "nbconvert_exporter": "python",
   "pygments_lexer": "ipython3",
   "version": "3.8.3"
  },
  "latex_envs": {
   "LaTeX_envs_menu_present": true,
   "autoclose": false,
   "autocomplete": true,
   "bibliofile": "biblio.bib",
   "cite_by": "apalike",
   "current_citInitial": 1,
   "eqLabelWithNumbers": true,
   "eqNumInitial": 1,
   "hotkeys": {
    "equation": "Ctrl-E",
    "itemize": "Ctrl-I"
   },
   "labels_anchors": false,
   "latex_user_defs": false,
   "report_style_numbering": false,
   "user_envs_cfg": false
  },
  "nteract": {
   "version": "0.12.3"
  }
 },
 "nbformat": 4,
 "nbformat_minor": 2
}
